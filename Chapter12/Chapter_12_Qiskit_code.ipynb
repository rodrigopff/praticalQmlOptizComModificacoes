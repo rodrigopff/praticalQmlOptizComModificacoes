{
 "cells": [
  {
   "cell_type": "markdown",
   "id": "398a1114",
   "metadata": {},
   "source": [
    "# CHAPTER 12 - Quantum Generative Adversarial Networks - Qiskit Code"
   ]
  },
  {
   "cell_type": "markdown",
   "id": "d60f20a9",
   "metadata": {},
   "source": [
    "*Note*: You may skip the following four cells if you have alredy installed the right versions of all the libraries mentioned in *Appendix D*. This will likely NOT be the case if you are running this notebook on a cloud service such as Google Colab."
   ]
  },
  {
   "cell_type": "code",
   "execution_count": null,
   "id": "c31af5f7",
   "metadata": {},
   "outputs": [],
   "source": [
    "pip install scikit-learn==1.2.1"
   ]
  },
  {
   "cell_type": "code",
   "execution_count": null,
   "id": "2e9d0203",
   "metadata": {
    "scrolled": false
   },
   "outputs": [],
   "source": [
    "pip install qiskit==0.39.2"
   ]
  },
  {
   "cell_type": "code",
   "execution_count": null,
   "id": "1b71af32",
   "metadata": {},
   "outputs": [],
   "source": [
    "pip install qiskit_machine_learning==0.5.0"
   ]
  },
  {
   "cell_type": "code",
   "execution_count": null,
   "id": "ae214a26",
   "metadata": {},
   "outputs": [],
   "source": [
    "pip install matplotlib==3.2.2"
   ]
  },
  {
   "cell_type": "code",
   "execution_count": null,
   "id": "27a84d49",
   "metadata": {},
   "outputs": [],
   "source": [
    "import numpy as np\n",
    "\n",
    "from qiskit import *\n",
    "from qiskit.utils import algorithm_globals\n",
    "\n",
    "seed = 1234\n",
    "np.random.seed(seed)\n",
    "algorithm_globals.random_seed = seed"
   ]
  },
  {
   "cell_type": "code",
   "execution_count": null,
   "id": "cd7930e4",
   "metadata": {},
   "outputs": [],
   "source": [
    "N = 1000\n",
    "n = 3\n",
    "p = 0.5\n",
    "\n",
    "real_data = np.random.binomial(n, p, N)"
   ]
  },
  {
   "cell_type": "code",
   "execution_count": null,
   "id": "5db4d9d7",
   "metadata": {},
   "outputs": [],
   "source": [
    "from qiskit_machine_learning.algorithms import QGAN\n",
    "from qiskit.utils import QuantumInstance\n",
    "\n",
    "ncycles = 3000 # Number of training cycles.\n",
    "bsize = 100 # Batch size.\n",
    "\n",
    "# Quantum instance on which the QGAN will run.\n",
    "quantum_instance = QuantumInstance(\n",
    "    backend=Aer.get_backend('statevector_simulator'))\n",
    "\n",
    "# Create the QGAN object.\n",
    "qgan = QGAN(data = real_data, \n",
    "            num_qubits = [2], \n",
    "            batch_size = bsize, \n",
    "            num_epochs = ncycles,\n",
    "            bounds = [0,3],\n",
    "            seed = seed,\n",
    "            tol_rel_ent = 0.001)"
   ]
  },
  {
   "cell_type": "code",
   "execution_count": null,
   "id": "23473ed8",
   "metadata": {},
   "outputs": [],
   "source": [
    "result = qgan.run(quantum_instance)"
   ]
  },
  {
   "cell_type": "code",
   "execution_count": null,
   "id": "497526df",
   "metadata": {},
   "outputs": [],
   "source": [
    "import matplotlib.pyplot as plt\n",
    "plt.title(\"Loss function evolution\")\n",
    "cycles = np.array(range(len(qgan.g_loss))) + 1\n",
    "plt.plot(cycles, qgan.g_loss, label = \"Generator\")\n",
    "plt.plot(cycles, qgan.d_loss, label = \"Discriminator\")\n",
    "plt.xlabel(\"Cycle\")\n",
    "plt.legend()"
   ]
  },
  {
   "cell_type": "code",
   "execution_count": null,
   "id": "1b9c237b",
   "metadata": {},
   "outputs": [],
   "source": [
    "samples_g, prob_g = qgan.generator.get_output(qgan.quantum_instance,\n",
    "                                             shots=10000)\n",
    "\n",
    "real_distr = []\n",
    "for i in range(0,3+1):\n",
    "    proportion = np.count_nonzero(real_data == i) / N\n",
    "    real_distr.append(proportion)\n",
    "\n",
    "plt.bar(range(4), real_distr, width = 0.7, color = \"royalblue\", \n",
    "        label = \"Real distribution\")\n",
    "plt.bar(range(4), prob_g, width = 0.5, color = \"black\", \n",
    "        label = \"Generated distribution\")"
   ]
  }
 ],
 "metadata": {
  "kernelspec": {
   "display_name": "Python 3 (ipykernel)",
   "language": "python",
   "name": "python3"
  },
  "language_info": {
   "codemirror_mode": {
    "name": "ipython",
    "version": 3
   },
   "file_extension": ".py",
   "mimetype": "text/x-python",
   "name": "python",
   "nbconvert_exporter": "python",
   "pygments_lexer": "ipython3",
   "version": "3.10.8"
  }
 },
 "nbformat": 4,
 "nbformat_minor": 5
}

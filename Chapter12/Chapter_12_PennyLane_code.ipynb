{
 "cells": [
  {
   "cell_type": "markdown",
   "id": "398a1114",
   "metadata": {},
   "source": [
    "# CHAPTER 12 - Quantum Generative Adversarial Networks - PennyLane Code"
   ]
  },
  {
   "cell_type": "markdown",
   "id": "d60f20a9",
   "metadata": {},
   "source": [
    "*Note*: You may skip the following four cells if you have alredy installed the right versions of all the libraries mentioned in *Appendix D*. This will likely NOT be the case if you are running this notebook on a cloud service such as Google Colab."
   ]
  },
  {
   "cell_type": "code",
   "execution_count": null,
   "id": "c31af5f7",
   "metadata": {},
   "outputs": [],
   "source": [
    "pip install scikit-learn==1.2.1"
   ]
  },
  {
   "cell_type": "code",
   "execution_count": null,
   "id": "d18f646b",
   "metadata": {},
   "outputs": [],
   "source": [
    "pip install torch==2.9.1"
   ]
  },
  {
   "cell_type": "code",
   "execution_count": null,
   "id": "2e9d0203",
   "metadata": {
    "scrolled": false
   },
   "outputs": [],
   "source": [
    "pip install pennylane==0.26"
   ]
  },
  {
   "cell_type": "code",
   "execution_count": null,
   "id": "ae214a26",
   "metadata": {},
   "outputs": [],
   "source": [
    "pip install matplotlib==3.2.2"
   ]
  },
  {
   "cell_type": "code",
   "execution_count": null,
   "id": "27a84d49",
   "metadata": {},
   "outputs": [],
   "source": [
    "import pennylane as qml\n",
    "import numpy as np\n",
    "\n",
    "import torch\n",
    "import torch.nn as nn\n",
    "\n",
    "seed = 1234\n",
    "np.random.seed(seed)\n",
    "torch.manual_seed(seed)"
   ]
  },
  {
   "cell_type": "code",
   "execution_count": null,
   "id": "cd7930e4",
   "metadata": {},
   "outputs": [],
   "source": [
    "phi = np.pi / 3\n",
    "theta = np.pi / 4\n",
    "delta = np.pi / 5"
   ]
  },
  {
   "cell_type": "code",
   "execution_count": null,
   "id": "8a0684f8",
   "metadata": {},
   "outputs": [],
   "source": [
    "def PrepareTrueState():\n",
    "    qml.U3(theta, phi, delta, wires = 0)"
   ]
  },
  {
   "cell_type": "code",
   "execution_count": null,
   "id": "e296db3c",
   "metadata": {},
   "outputs": [],
   "source": [
    "def GeneratorVF(weights):\n",
    "    qml.U3(weights[0], weights[1], weights[2], wires = 0)\n",
    "\n",
    "def DiscriminatorVF(nqubits, weights, reps = 1):\n",
    "    par = 0 # Index for parameters.\n",
    "    for rep in range(reps):\n",
    "        for q in range(nqubits):\n",
    "            qml.RX(weights[par], wires = q)\n",
    "            par += 1\n",
    "            qml.RY(weights[par], wires = q)\n",
    "            par += 1\n",
    "            qml.RZ(weights[par], wires = q)\n",
    "            par += 1\n",
    "        for i in range(nqubits - 1):\n",
    "            qml.CNOT(wires = [i, i + 1])\n",
    "    \n",
    "    for q in range(nqubits):\n",
    "        qml.RX(weights[par], wires = q)\n",
    "        par += 1\n",
    "        qml.RY(weights[par], wires = q)\n",
    "        par += 1\n",
    "        qml.RZ(weights[par], wires = q)\n",
    "        par += 1"
   ]
  },
  {
   "cell_type": "code",
   "execution_count": null,
   "id": "a9ca2195",
   "metadata": {},
   "outputs": [],
   "source": [
    "def Generator(weights):\n",
    "    GeneratorVF(weights)\n",
    "\n",
    "def Discriminator(weights):\n",
    "    DiscriminatorVF(2, weights, reps = 3)"
   ]
  },
  {
   "cell_type": "code",
   "execution_count": null,
   "id": "24827a6f",
   "metadata": {},
   "outputs": [],
   "source": [
    "state_0 = [[1], [0]]\n",
    "M = state_0 * np.conj(state_0).T"
   ]
  },
  {
   "cell_type": "code",
   "execution_count": null,
   "id": "087ec7f9",
   "metadata": {},
   "outputs": [],
   "source": [
    "dev = qml.device('default.qubit', wires = 2)\n",
    "\n",
    "@qml.qnode(dev, interface=\"torch\", diff_method = \"backprop\")\n",
    "def true_discriminator(weights_dis):\n",
    "    PrepareTrueState()\n",
    "    Discriminator(weights_dis)\n",
    "    return qml.expval(qml.Hermitian(M, wires = [0]))\n",
    "\n",
    "\n",
    "@qml.qnode(dev, interface=\"torch\", diff_method = \"backprop\")\n",
    "def generator_discriminator(weights_gen, weights_dis):\n",
    "    Generator(weights_gen)\n",
    "    Discriminator(weights_dis)\n",
    "    return qml.expval(qml.Hermitian(M, wires = [0]))"
   ]
  },
  {
   "cell_type": "code",
   "execution_count": null,
   "id": "96f95330",
   "metadata": {},
   "outputs": [],
   "source": [
    "def discriminator_loss(weights_gen, weights_dis):\n",
    "    \n",
    "    # Outcome of the discriminator with a generated state.\n",
    "    out_gen = generator_discriminator(weights_gen, weights_dis)\n",
    "\n",
    "    # Outcome of the discriminator with the true state.\n",
    "    out_true = true_discriminator(weights_dis)\n",
    "\n",
    "    return -(torch.log(1 - out_gen) + torch.log(out_true))/2"
   ]
  },
  {
   "cell_type": "code",
   "execution_count": null,
   "id": "8905f88c",
   "metadata": {},
   "outputs": [],
   "source": [
    "def generator_loss(weights_gen, weights_dis):\n",
    "    out_gen = generator_discriminator(weights_gen, weights_dis)\n",
    "    return -torch.log(out_gen)"
   ]
  },
  {
   "cell_type": "code",
   "execution_count": null,
   "id": "75c887b3",
   "metadata": {},
   "outputs": [],
   "source": [
    "weights_gen = torch.rand(3, requires_grad = True)\n",
    "weights_dis = torch.rand((3 + 1) * 2 * 3, requires_grad = True)"
   ]
  },
  {
   "cell_type": "code",
   "execution_count": null,
   "id": "bfadb9c1",
   "metadata": {},
   "outputs": [],
   "source": [
    "optg = torch.optim.SGD([weights_gen], lr = 0.5)\n",
    "optd = torch.optim.SGD([weights_dis], lr = 0.5)"
   ]
  },
  {
   "cell_type": "code",
   "execution_count": null,
   "id": "08b00a4e",
   "metadata": {},
   "outputs": [],
   "source": [
    "dis_losses = [] # Discriminator losses.\n",
    "gen_losses = [] # Generator losses.\n",
    "log_weights = [] # Generator weights.\n",
    "\n",
    "ncycles = 150 # Number of training cycles.\n",
    "\n",
    "for i in range(ncycles):\n",
    "    # Train the discriminator.\n",
    "    optd.zero_grad()\n",
    "    lossd = discriminator_loss(weights_gen.detach(), weights_dis)\n",
    "    lossd.backward()\n",
    "    optd.step()\n",
    "    \n",
    "    # Train the generator.\n",
    "    optg.zero_grad()\n",
    "    lossg = generator_loss(weights_gen, weights_dis.detach())\n",
    "    lossg.backward()\n",
    "    optg.step()\n",
    "    \n",
    "    # Log losses and weights.\n",
    "    lossd = float(lossd)\n",
    "    lossg = float(lossg)\n",
    "    dis_losses.append(lossd)\n",
    "    gen_losses.append(lossg)\n",
    "    log_weights.append(weights_gen.detach().clone().numpy())\n",
    "    \n",
    "    # Print the losses every fifteen cycles.\n",
    "    if (np.mod((i+1), 15) == 0):\n",
    "        print(\"Epoch\", i+1, end= \" \")\n",
    "        print(\"| Discriminator loss:\", round(lossd, 4), end = \" \")\n",
    "        print(\"| Generator loss:\", round(lossg, 4))"
   ]
  },
  {
   "cell_type": "code",
   "execution_count": null,
   "id": "17790bae",
   "metadata": {},
   "outputs": [],
   "source": [
    "import matplotlib.pyplot as plt\n",
    "epochs = np.array(range(len(gen_losses))) + 1\n",
    "plt.plot(epochs, gen_losses, label = \"Generator loss\")\n",
    "plt.plot(epochs, dis_losses, label = \"Discriminator loss\")\n",
    "plt.xlabel(\"Epoch\")\n",
    "plt.legend()"
   ]
  },
  {
   "cell_type": "code",
   "execution_count": null,
   "id": "c3837048",
   "metadata": {},
   "outputs": [],
   "source": [
    "@qml.qnode(dev, interface=\"torch\")\n",
    "def generated_coordinates(weights_gen):\n",
    "    Generator(weights_gen)\n",
    "    return [qml.expval(qml.PauliX(0)), qml.expval(qml.PauliY(0)),\n",
    "    qml.expval(qml.PauliZ(0))]\n",
    "\n",
    "@qml.qnode(dev, interface=\"torch\")\n",
    "def true_coordinates():\n",
    "    PrepareTrueState()\n",
    "    return [qml.expval(qml.PauliX(0)), \n",
    "            qml.expval(qml.PauliY(0)),\n",
    "            qml.expval(qml.PauliZ(0))]\n",
    "\n",
    "print(\"Bloch coordinates\")\n",
    "print(\"Generated:\", generated_coordinates(weights_gen))\n",
    "print(\"True:\", true_coordinates())"
   ]
  },
  {
   "cell_type": "code",
   "execution_count": null,
   "id": "825528f3",
   "metadata": {},
   "outputs": [],
   "source": [
    "true_coords = true_coordinates()\n",
    "def plot_coordinates(cycle):\n",
    "\n",
    "    coords = generated_coordinates(log_weights[cycle - 1])\n",
    "\n",
    "    plt.bar([\"X\", \"Y\", \"Z\"], true_coords, width = 1,\n",
    "        color = \"royalblue\", label = \"True coordinates\")\n",
    "    plt.bar([\"X\", \"Y\", \"Z\"], coords, width = 0.5,\n",
    "        color = \"black\", label = \"Generated coordinates\")\n",
    "\n",
    "    plt.title(f\"Training cycle {cycle}\")\n",
    "    plt.legend()"
   ]
  }
 ],
 "metadata": {
  "kernelspec": {
   "display_name": "Python 3 (ipykernel)",
   "language": "python",
   "name": "python3"
  },
  "language_info": {
   "codemirror_mode": {
    "name": "ipython",
    "version": 3
   },
   "file_extension": ".py",
   "mimetype": "text/x-python",
   "name": "python",
   "nbconvert_exporter": "python",
   "pygments_lexer": "ipython3",
   "version": "3.10.8"
  }
 },
 "nbformat": 4,
 "nbformat_minor": 5
}

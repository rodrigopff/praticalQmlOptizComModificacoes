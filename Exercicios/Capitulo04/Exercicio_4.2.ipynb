{
 "cells": [
  {
   "cell_type": "code",
   "execution_count": 1,
   "id": "8aebb805",
   "metadata": {},
   "outputs": [],
   "source": [
    "# Utilizaremos o exemplo QUBO do livro. Iremos fazer a medida com o mesmo usando \n",
    "# o modelo QUBO logo abaixo.\n",
    "# Depois disso iremos transformar o QUBO em seu correspodente Ising e refazer as medidas para comparar \n",
    "# os resultados\n",
    "# O livro suger que utilzemos o seguinte problema QUBO para minimizar:\n",
    "# x0.x2 - x0.x1 + 2.x1"
   ]
  },
  {
   "cell_type": "code",
   "execution_count": null,
   "id": "a6dade46",
   "metadata": {},
   "outputs": [],
   "source": [
    "!dwave config create"
   ]
  },
  {
   "cell_type": "code",
   "execution_count": null,
   "id": "70a11d6c",
   "metadata": {},
   "outputs": [],
   "source": [
    "import dimod\n",
    "J = {(0,1):-1, (0,2):1}\n",
    "h = {1:2}\n",
    "# Lembre-se que abaixo utilizamos dimod.BINARY no lugar de dimod.SPIN pois agora trata-se de um QUBO e nao de um\n",
    "# Ising\n",
    "problem = dimod.BinaryQuadraticModel(h, J, 0.0, dimod.BINARY)\n",
    "print(\"The problem we are going to solve is:\")\n",
    "print(problem)"
   ]
  },
  {
   "cell_type": "code",
   "execution_count": null,
   "id": "40805597",
   "metadata": {},
   "outputs": [],
   "source": [
    "from dwave.system import DWaveSampler\n",
    "from dwave.system import EmbeddingComposite\n",
    "sampler = EmbeddingComposite(DWaveSampler())\n",
    "result = sampler.sample(problem, num_reads=10)\n",
    "print(\"The solutions that we have obtained are\")\n",
    "print(result)"
   ]
  },
  {
   "cell_type": "code",
   "execution_count": null,
   "id": "3b09022a",
   "metadata": {},
   "outputs": [],
   "source": [
    "# Um exemplo de resultado obtido executando o codigo la no Colab. Para compararmos com o Ising correspondente\n",
    "\n",
    "The solutions that we have obtained are\n",
    "   0  1  2 energy num_oc. chain_.\n",
    "0  1  0  0    0.0       6     0.0\n",
    "1  0  0  0    0.0       2     0.0\n",
    "2  0  0  1    0.0       2     0.0\n",
    "['BINARY', 3 rows, 10 samples, 3 variables]\n"
   ]
  },
  {
   "cell_type": "code",
   "execution_count": null,
   "id": "998d233d",
   "metadata": {},
   "outputs": [],
   "source": [
    "# Modelo de Ising correspondente. Calculado na caneta.\n",
    "# -zo.z1 + z0.z2 - 3.z1 - z2 + 4"
   ]
  },
  {
   "cell_type": "code",
   "execution_count": null,
   "id": "d8d0a4a5",
   "metadata": {},
   "outputs": [],
   "source": [
    "J = {(0,1):-1/4, (0,2):1/4}\n",
    "h = {-3/4:1, -1/4:2}\n",
    "problem = dimod.BinaryQuadraticModel(h, J, 0.0, dimod.SPIN)\n",
    "print(\"The problem we are going to solve is:\")\n",
    "print(problem)"
   ]
  },
  {
   "cell_type": "code",
   "execution_count": null,
   "id": "d8aec11e",
   "metadata": {},
   "outputs": [],
   "source": [
    "from dwave.system import DWaveSampler\n",
    "from dwave.system import EmbeddingComposite\n",
    "sampler = EmbeddingComposite(DWaveSampler())\n",
    "result = sampler.sample(problem, num_reads=10)\n",
    "print(\"The solutions that we have obtained are\")\n",
    "print(result)"
   ]
  },
  {
   "cell_type": "code",
   "execution_count": null,
   "id": "29981b49",
   "metadata": {},
   "outputs": [],
   "source": [
    "# Um exemplo de resultado obtido executando o codigo la no Colab. Para compararmos com o QUBO correspondente\n"
   ]
  },
  {
   "cell_type": "code",
   "execution_count": null,
   "id": "d19fe280",
   "metadata": {},
   "outputs": [],
   "source": [
    "The solutions that we have obtained are\n",
    "  -0.75 -0.25  0  1  2 energy num_oc. chain_.\n",
    "0    -1    -1 -1 -1 +1   -3.5       7     0.0\n",
    "1    -1    -1 +1 +1 -1   -3.5       3     0.0\n",
    "['SPIN', 2 rows, 10 samples, 5 variables]"
   ]
  }
 ],
 "metadata": {
  "kernelspec": {
   "display_name": "Python 3 (ipykernel)",
   "language": "python",
   "name": "python3"
  },
  "language_info": {
   "codemirror_mode": {
    "name": "ipython",
    "version": 3
   },
   "file_extension": ".py",
   "mimetype": "text/x-python",
   "name": "python",
   "nbconvert_exporter": "python",
   "pygments_lexer": "ipython3",
   "version": "3.9.16"
  }
 },
 "nbformat": 4,
 "nbformat_minor": 5
}

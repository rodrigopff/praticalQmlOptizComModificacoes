{
 "cells": [
  {
   "cell_type": "code",
   "execution_count": 27,
   "id": "dcd1c5cc-799b-492e-b506-f4957aaabd70",
   "metadata": {},
   "outputs": [],
   "source": [
    "# exercicio 3.3 pg. 93\n",
    "from qiskit.quantum_info import Statevector, Operator, Pauli\n",
    "from scipy import sparse\n",
    "\n",
    "H_cut = Operator(Pauli(\"ZZI\")) + Operator(Pauli(\"ZIZ\"))"
   ]
  },
  {
   "cell_type": "code",
   "execution_count": 31,
   "id": "9a64c3b1-10cf-4f7f-a57e-00d5a4135f33",
   "metadata": {},
   "outputs": [
    {
     "name": "stdout",
     "output_type": "stream",
     "text": [
      "Valor esperado :  (-2+0j)\n"
     ]
    },
    {
     "data": {
      "text/latex": [
       "$$ |100\\rangle$$"
      ],
      "text/plain": [
       "<IPython.core.display.Latex object>"
      ]
     },
     "execution_count": 31,
     "metadata": {},
     "output_type": "execute_result"
    }
   ],
   "source": [
    "psi_100 = Statevector.from_int(4, dims = 8) # estado |100>\n",
    "print(\"Valor esperado : \", psi_100.expectation_value(H_cut)) # ⟨100|(Z0 Z1 + Z0 Z2 )|100⟩ = −2\n",
    "psi_100.draw(\"latex\") "
   ]
  },
  {
   "cell_type": "code",
   "execution_count": 32,
   "id": "d1b0ffb2-66c8-4f1e-b253-093e8b200faa",
   "metadata": {},
   "outputs": [
    {
     "name": "stdout",
     "output_type": "stream",
     "text": [
      "Valor esperado :  0j\n"
     ]
    },
    {
     "data": {
      "text/latex": [
       "$$ |010\\rangle$$"
      ],
      "text/plain": [
       "<IPython.core.display.Latex object>"
      ]
     },
     "execution_count": 32,
     "metadata": {},
     "output_type": "execute_result"
    }
   ],
   "source": [
    "psi_010 = Statevector.from_int(2, dims = 8) # estado |010>\n",
    "print(\"Valor esperado : \", psi_010.expectation_value(H_cut)) #  ⟨010|(Z0 Z1 + Z0 Z2 )|010⟩ = 0\n",
    "psi_010.draw(\"latex\")"
   ]
  },
  {
   "cell_type": "code",
   "execution_count": null,
   "id": "01e58535-5c55-4065-b326-09be52fb17d0",
   "metadata": {},
   "outputs": [],
   "source": []
  }
 ],
 "metadata": {
  "kernelspec": {
   "display_name": "Python 3 (ipykernel)",
   "language": "python",
   "name": "python3"
  },
  "language_info": {
   "codemirror_mode": {
    "name": "ipython",
    "version": 3
   },
   "file_extension": ".py",
   "mimetype": "text/x-python",
   "name": "python",
   "nbconvert_exporter": "python",
   "pygments_lexer": "ipython3",
   "version": "3.9.16"
  }
 },
 "nbformat": 4,
 "nbformat_minor": 5
}

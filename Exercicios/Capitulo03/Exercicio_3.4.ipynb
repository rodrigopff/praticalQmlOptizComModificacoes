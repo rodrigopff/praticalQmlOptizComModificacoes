{
 "cells": [
  {
   "cell_type": "code",
   "execution_count": 5,
   "id": "bc523dc2-1f72-49ff-a322-0e809c22cc2d",
   "metadata": {},
   "outputs": [
    {
     "name": "stdout",
     "output_type": "stream",
     "text": [
      "The expectation value of | 0 > is (2+0j)\n",
      "The expectation value of | 1 > is 0j\n",
      "The expectation value of | 2 > is 0j\n",
      "The expectation value of | 3 > is (-2+0j)\n",
      "The expectation value of | 4 > is (-2+0j)\n",
      "The expectation value of | 5 > is 0j\n",
      "The expectation value of | 6 > is 0j\n",
      "The expectation value of | 7 > is (2+0j)\n"
     ]
    }
   ],
   "source": [
    "# Exercicio 3.4 pg. 104\n",
    "# Este exercicio ja esta reolsvdi no codigo no notebook do capitulo 3 \n",
    "# Chapter_03_code.ipynb\n",
    "\n",
    "from qiskit.quantum_info import Pauli\n",
    "#from qiskit.opflow.primitive_ops import PauliOp\n",
    "from qiskit.quantum_info import Statevector, Operator, Pauli\n",
    "from sympy.physics.quantum import Bra,Ket\n",
    "\n",
    "#H_cut = PauliOp(Pauli(\"ZZI\")) + PauliOp(Pauli(\"ZIZ\")) ## Depreciado\n",
    "H_cut = Operator(Pauli(\"ZZI\")) + Operator(Pauli(\"ZIZ\"))\n",
    "for x in range(8): # We consider x=0,1...7\n",
    "    psi = psi = Statevector.from_int(x, dims = 8)\n",
    "    #x = Ket(x)\n",
    "    #pprint(x)    \n",
    "    print(\"The expectation value of |\",x,\"> is\", \n",
    "        psi.expectation_value(H_cut))    \n"
   ]
  },
  {
   "cell_type": "code",
   "execution_count": null,
   "id": "a26980e8-1293-4299-b25a-b66b73c322bd",
   "metadata": {},
   "outputs": [],
   "source": []
  }
 ],
 "metadata": {
  "kernelspec": {
   "display_name": "Python 3 (ipykernel)",
   "language": "python",
   "name": "python3"
  },
  "language_info": {
   "codemirror_mode": {
    "name": "ipython",
    "version": 3
   },
   "file_extension": ".py",
   "mimetype": "text/x-python",
   "name": "python",
   "nbconvert_exporter": "python",
   "pygments_lexer": "ipython3",
   "version": "3.9.16"
  }
 },
 "nbformat": 4,
 "nbformat_minor": 5
}

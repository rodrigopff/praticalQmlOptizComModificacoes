{
 "cells": [
  {
   "cell_type": "markdown",
   "id": "398a1114",
   "metadata": {},
   "source": [
    "# CHAPTER 8 - What is Quantum Machine Learning? - Code"
   ]
  },
  {
   "cell_type": "markdown",
   "id": "d60f20a9",
   "metadata": {},
   "source": [
    "*Note*: You may skip the following three cells if you have alredy installed the right versions of all the libraries mentioned in *Appendix D*. This will likely NOT be the case if you are running this notebook on a cloud service such as Google Colab."
   ]
  },
  {
   "cell_type": "code",
   "execution_count": null,
   "id": "2e9d0203",
   "metadata": {
    "scrolled": false
   },
   "outputs": [],
   "source": [
    "pip install tensorflow==2.9.1"
   ]
  },
  {
   "cell_type": "code",
   "execution_count": null,
   "id": "c31af5f7",
   "metadata": {},
   "outputs": [],
   "source": [
    "pip install scikit-learn==1.0.2"
   ]
  },
  {
   "cell_type": "code",
   "execution_count": null,
   "id": "8b8485db",
   "metadata": {},
   "outputs": [],
   "source": [
    "pip install matplotlib==3.2.2"
   ]
  },
  {
   "cell_type": "code",
   "execution_count": null,
   "id": "6d229d9c",
   "metadata": {},
   "outputs": [],
   "source": [
    "import numpy as np\n",
    "seed = 128\n",
    "np.random.seed(seed)"
   ]
  },
  {
   "cell_type": "code",
   "execution_count": null,
   "id": "146e2244",
   "metadata": {},
   "outputs": [],
   "source": [
    "from sklearn.datasets import make_classification\n",
    "\n",
    "data, labels = make_classification(n_samples = 2500, \n",
    "    n_features = 2, n_informative = 2, n_redundant = 0, \n",
    "    weights = (0.2,0.8), class_sep = 0.5, random_state = seed)"
   ]
  },
  {
   "cell_type": "code",
   "execution_count": null,
   "id": "da626e93",
   "metadata": {},
   "outputs": [],
   "source": [
    "import matplotlib.pyplot as plt\n",
    "\n",
    "for i in range(2):\n",
    "    plt.hist(data[:,i][labels == 1], bins=100, alpha=0.8, label = \"Negative\")\n",
    "    plt.hist(data[:,i][labels == 0], bins=100, alpha=0.8, label = \"Positive\")\n",
    "    plt.legend()\n",
    "    plt.show()"
   ]
  },
  {
   "cell_type": "code",
   "execution_count": null,
   "id": "1aa888e9",
   "metadata": {},
   "outputs": [],
   "source": [
    "from sklearn.model_selection import train_test_split\n",
    "\n",
    "# Split into a training and a test dataset.\n",
    "x_tr, x_test, y_tr, y_test = train_test_split(\n",
    "    data, labels, shuffle = True, train_size = 0.8)\n",
    "# Split the test dataset to get a validation one.\n",
    "x_val, x_test, y_val, y_test = train_test_split(\n",
    "    x_test, y_test, shuffle = True, train_size = 0.5)"
   ]
  },
  {
   "cell_type": "code",
   "execution_count": null,
   "id": "6e0014ee",
   "metadata": {},
   "outputs": [],
   "source": [
    "import tensorflow as tf\n",
    "tf.random.set_seed(seed)\n",
    "\n",
    "model = tf.keras.Sequential([\n",
    "    tf.keras.layers.Input(2),\n",
    "    tf.keras.layers.Dense(8, activation = \"elu\"),\n",
    "    tf.keras.layers.Dense(16, activation = \"elu\"),\n",
    "    tf.keras.layers.Dense(8, activation = \"elu\"),\n",
    "    tf.keras.layers.Dense(1, activation = \"sigmoid\"),\n",
    "])"
   ]
  },
  {
   "cell_type": "code",
   "execution_count": null,
   "id": "38bb5bf3",
   "metadata": {},
   "outputs": [],
   "source": [
    "opt = tf.keras.optimizers.Adam()\n",
    "lossf = tf.keras.losses.BinaryCrossentropy()\n",
    "model.compile(optimizer = opt, loss = lossf)"
   ]
  },
  {
   "cell_type": "code",
   "execution_count": null,
   "id": "8e63c2fb",
   "metadata": {},
   "outputs": [],
   "source": [
    "history = model.fit(x_tr, y_tr,\n",
    "    validation_data = (x_val, y_val), epochs = 8,\n",
    "    batch_size = None)"
   ]
  },
  {
   "cell_type": "code",
   "execution_count": null,
   "id": "d55ff97b",
   "metadata": {},
   "outputs": [],
   "source": [
    "early_stp = tf.keras.callbacks.EarlyStopping(\n",
    "    monitor = \"val_loss\", patience = 3, min_delta = 0.001)"
   ]
  },
  {
   "cell_type": "code",
   "execution_count": null,
   "id": "38749636",
   "metadata": {},
   "outputs": [],
   "source": [
    "output = model.predict(x_test)\n",
    "result = (output > 0.5).astype(float)"
   ]
  },
  {
   "cell_type": "code",
   "execution_count": null,
   "id": "cfbc9e5a",
   "metadata": {},
   "outputs": [],
   "source": [
    "from sklearn.metrics import accuracy_score\n",
    "print(accuracy_score(result, y_test))"
   ]
  },
  {
   "cell_type": "code",
   "execution_count": null,
   "id": "60a72166",
   "metadata": {},
   "outputs": [],
   "source": [
    "from sklearn.metrics import confusion_matrix\n",
    "confusion_matrix(y_true = y_test, y_pred = result)"
   ]
  },
  {
   "cell_type": "code",
   "execution_count": null,
   "id": "3b9c84c2",
   "metadata": {},
   "outputs": [],
   "source": [
    "from sklearn.metrics import classification_report\n",
    "print(classification_report(y_true = y_test, y_pred = result))"
   ]
  },
  {
   "cell_type": "code",
   "execution_count": null,
   "id": "71fbc442",
   "metadata": {},
   "outputs": [],
   "source": [
    "from sklearn.metrics import roc_curve\n",
    "fpr, tpr, _ = roc_curve(y_test, output)\n",
    "plt.plot(fpr, tpr)\n",
    "plt.plot([0,1],[0,1],linestyle=\"--\",color=\"black\")\n",
    "plt.xlabel(\"FPR\"); plt.ylabel(\"TPR\")\n",
    "plt.show()"
   ]
  },
  {
   "cell_type": "code",
   "execution_count": null,
   "id": "f9ef4a7e",
   "metadata": {},
   "outputs": [],
   "source": [
    "from sklearn.metrics import auc\n",
    "print(auc(fpr,tpr))"
   ]
  }
 ],
 "metadata": {
  "kernelspec": {
   "display_name": "Python 3 (ipykernel)",
   "language": "python",
   "name": "python3"
  },
  "language_info": {
   "codemirror_mode": {
    "name": "ipython",
    "version": 3
   },
   "file_extension": ".py",
   "mimetype": "text/x-python",
   "name": "python",
   "nbconvert_exporter": "python",
   "pygments_lexer": "ipython3",
   "version": "3.10.8"
  }
 },
 "nbformat": 4,
 "nbformat_minor": 5
}

{
 "cells": [
  {
   "cell_type": "markdown",
   "metadata": {
    "id": "UmvGv70AUVA3"
   },
   "source": [
    "# CHAPTER 3 - Working with Quadratic Unconstrained Binary Optimization Problems"
   ]
  },
  {
   "cell_type": "markdown",
   "metadata": {
    "id": "aP-Bp7kkUgDJ"
   },
   "source": [
    "*Note*: You may skip the following cell if you have alredy installed the right versions of all the libraries mentioned in *Appendix D*. This will likely NOT be the case if you are running this notebook on a cloud service such as Google Colab."
   ]
  },
  {
   "cell_type": "code",
   "execution_count": null,
   "metadata": {
    "id": "CZnFNAaeYIn0"
   },
   "outputs": [],
   "source": [
    "pip install qiskit==0.39.2"
   ]
  },
  {
   "cell_type": "code",
   "execution_count": 1,
   "metadata": {
    "id": "Gjx-nOMxYwii"
   },
   "outputs": [
    {
     "name": "stdout",
     "output_type": "stream",
     "text": [
      "zero is Statevector([1.+0.j, 0.+0.j],\n",
      "            dims=(2,))\n"
     ]
    }
   ],
   "source": [
    "from qiskit.quantum_info import Statevector\n",
    "zero = Statevector([1,0])\n",
    "print(\"zero is\", zero)"
   ]
  },
  {
   "cell_type": "code",
   "execution_count": 2,
   "metadata": {
    "id": "En0aSXKQYxoJ"
   },
   "outputs": [
    {
     "name": "stdout",
     "output_type": "stream",
     "text": [
      "one is Statevector([0.+0.j, 1.+0.j],\n",
      "            dims=(2,))\n"
     ]
    }
   ],
   "source": [
    "one = Statevector([0,1])\n",
    "print(\"one is\",one)"
   ]
  },
  {
   "cell_type": "code",
   "execution_count": 3,
   "metadata": {
    "id": "T9MKfavZY7rZ"
   },
   "outputs": [
    {
     "name": "stdout",
     "output_type": "stream",
     "text": [
      "zero is Statevector([1.+0.j, 0.+0.j],\n",
      "            dims=(2,))\n",
      "one is Statevector([0.+0.j, 1.+0.j],\n",
      "            dims=(2,))\n"
     ]
    }
   ],
   "source": [
    "zero = Statevector.from_int(0, dims = 2)\n",
    "one = Statevector.from_int(1, dims = 2)\n",
    "print(\"zero is\",zero)\n",
    "print(\"one is\",one)"
   ]
  },
  {
   "cell_type": "code",
   "execution_count": null,
   "metadata": {
    "id": "fMLAvqhHY-qi"
   },
   "outputs": [],
   "source": [
    "psi = one.tensor(zero.tensor(zero))\n",
    "print(\"psi is\",psi)"
   ]
  },
  {
   "cell_type": "code",
   "execution_count": null,
   "metadata": {
    "id": "GVaxcff6ZCuq"
   },
   "outputs": [],
   "source": [
    "psi = one^zero^zero\n",
    "psi.draw(\"latex\")"
   ]
  },
  {
   "cell_type": "code",
   "execution_count": null,
   "metadata": {
    "id": "GLDLHezZZHl3"
   },
   "outputs": [],
   "source": [
    "psi = Statevector.from_int(4, dims = 8)\n"
   ]
  },
  {
   "cell_type": "code",
   "execution_count": null,
   "metadata": {
    "id": "FuDU-1mvZLii"
   },
   "outputs": [],
   "source": [
    "from numpy import sqrt\n",
    "ghz = 1/sqrt(2)*(zero^zero^zero) + 1/sqrt(2)*(one^one^one)"
   ]
  },
  {
   "cell_type": "code",
   "execution_count": null,
   "metadata": {
    "id": "ZB20QWVCZRTn"
   },
   "outputs": [],
   "source": [
    "from qiskit.quantum_info import Pauli\n",
    "Z0Z1 = Pauli(\"ZZI\")\n",
    "print(\"Z0Z1 is\",Z0Z1)\n",
    "print(\"And its matrix is\")\n",
    "print(Z0Z1.to_matrix())"
   ]
  },
  {
   "cell_type": "code",
   "execution_count": null,
   "metadata": {
    "id": "MvMceulAZUeG"
   },
   "outputs": [],
   "source": [
    "print(\"The sparse representation of Z0Z1 is\")\n",
    "print(Z0Z1.to_matrix(sparse=True))"
   ]
  },
  {
   "cell_type": "code",
   "execution_count": null,
   "metadata": {
    "id": "ZqUHzFDLZZoj"
   },
   "outputs": [],
   "source": [
    "Z0Z1 = Pauli(([0,1,1],[0,0,0]))\n"
   ]
  },
  {
   "cell_type": "code",
   "execution_count": null,
   "metadata": {
    "id": "pSJUs9XkZcQi"
   },
   "outputs": [],
   "source": [
    "from qiskit.opflow.primitive_ops import PauliOp\n",
    "H_cut = PauliOp(Pauli(\"ZZI\")) + PauliOp(Pauli(\"ZIZ\"))\n",
    "print(\"H_cut is\")\n",
    "print(H_cut)\n",
    "print(\"The sparse representation of H_cut is\")\n",
    "print(H_cut.to_spmatrix())"
   ]
  },
  {
   "cell_type": "code",
   "execution_count": null,
   "metadata": {
    "id": "Y99EIyG4ZfMD"
   },
   "outputs": [],
   "source": [
    "from qiskit.opflow import I, Z\n",
    "H_cut = (Z^Z^I) + (Z^I^Z)\n",
    "print(\"H_cut is\")\n",
    "print(H_cut)"
   ]
  },
  {
   "cell_type": "code",
   "execution_count": null,
   "metadata": {
    "id": "YWGLJ_ihZiOI"
   },
   "outputs": [],
   "source": [
    "H_ising = -0.5*(Z^Z^I) + 2*(Z^I^Z) -(I^Z^Z) + (I^Z^I) -5*(I^I^Z)\n"
   ]
  },
  {
   "cell_type": "code",
   "execution_count": null,
   "metadata": {
    "id": "3LT0fPr_ZlYs"
   },
   "outputs": [],
   "source": [
    "print(\"The expectation value is\", psi.expectation_value(H_cut))\n"
   ]
  },
  {
   "cell_type": "code",
   "execution_count": null,
   "metadata": {
    "id": "AIco0JrvZoHw"
   },
   "outputs": [],
   "source": [
    "print(\"The expectation value is\", psi.inner(psi.evolve(H_cut)))\n"
   ]
  },
  {
   "cell_type": "code",
   "execution_count": null,
   "metadata": {
    "id": "yuJbekb5Zrys"
   },
   "outputs": [],
   "source": [
    "from qiskit.quantum_info import Pauli\n",
    "from qiskit.opflow.primitive_ops import PauliOp\n",
    "from qiskit.quantum_info import Statevector\n",
    "H_cut = PauliOp(Pauli(\"ZZI\")) + PauliOp(Pauli(\"ZIZ\"))\n",
    "for x in range(8): # We consider x=0,1...7\n",
    "    psi = psi = Statevector.from_int(x, dims = 8)\n",
    "    print(\"The expectation value of |\",x,\">\", \"is\", \n",
    "        psi.expectation_value(H_cut))"
   ]
  }
 ],
 "metadata": {
  "colab": {
   "provenance": []
  },
  "kernelspec": {
   "display_name": "Python 3 (ipykernel)",
   "language": "python",
   "name": "python3"
  },
  "language_info": {
   "codemirror_mode": {
    "name": "ipython",
    "version": 3
   },
   "file_extension": ".py",
   "mimetype": "text/x-python",
   "name": "python",
   "nbconvert_exporter": "python",
   "pygments_lexer": "ipython3",
   "version": "3.10.11"
  }
 },
 "nbformat": 4,
 "nbformat_minor": 1
}

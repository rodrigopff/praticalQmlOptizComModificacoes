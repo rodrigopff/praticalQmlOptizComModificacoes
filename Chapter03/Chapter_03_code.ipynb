{
 "cells": [
  {
   "cell_type": "markdown",
   "metadata": {
    "id": "UmvGv70AUVA3"
   },
   "source": [
    "# CHAPTER 3 - Working with Quadratic Unconstrained Binary Optimization Problems"
   ]
  },
  {
   "cell_type": "markdown",
   "metadata": {
    "id": "aP-Bp7kkUgDJ"
   },
   "source": [
    "*Note*: You may skip the following cell if you have alredy installed the right versions of all the libraries mentioned in *Appendix D*. This will likely NOT be the case if you are running this notebook on a cloud service such as Google Colab."
   ]
  },
  {
   "cell_type": "code",
   "execution_count": null,
   "metadata": {
    "id": "CZnFNAaeYIn0"
   },
   "outputs": [],
   "source": [
    "pip install qiskit==0.39.2"
   ]
  },
  {
   "cell_type": "code",
   "execution_count": 2,
   "metadata": {
    "id": "Gjx-nOMxYwii"
   },
   "outputs": [
    {
     "name": "stdout",
     "output_type": "stream",
     "text": [
      "zero is Statevector([1.+0.j, 0.+0.j],\n",
      "            dims=(2,))\n"
     ]
    }
   ],
   "source": [
    "from qiskit.quantum_info import Statevector\n",
    "zero = Statevector([1,0])\n",
    "print(\"zero is\", zero)"
   ]
  },
  {
   "cell_type": "code",
   "execution_count": 3,
   "metadata": {
    "id": "En0aSXKQYxoJ"
   },
   "outputs": [
    {
     "name": "stdout",
     "output_type": "stream",
     "text": [
      "one is Statevector([0.+0.j, 1.+0.j],\n",
      "            dims=(2,))\n"
     ]
    }
   ],
   "source": [
    "one = Statevector([0,1])\n",
    "print(\"one is\",one)"
   ]
  },
  {
   "cell_type": "code",
   "execution_count": 4,
   "metadata": {
    "id": "T9MKfavZY7rZ"
   },
   "outputs": [
    {
     "name": "stdout",
     "output_type": "stream",
     "text": [
      "zero is Statevector([1.+0.j, 0.+0.j],\n",
      "            dims=(2,))\n",
      "one is Statevector([0.+0.j, 1.+0.j],\n",
      "            dims=(2,))\n"
     ]
    }
   ],
   "source": [
    "zero = Statevector.from_int(0, dims = 2)\n",
    "one = Statevector.from_int(1, dims = 2)\n",
    "print(\"zero is\",zero)\n",
    "print(\"one is\",one)"
   ]
  },
  {
   "cell_type": "code",
   "execution_count": 5,
   "metadata": {
    "id": "fMLAvqhHY-qi"
   },
   "outputs": [
    {
     "name": "stdout",
     "output_type": "stream",
     "text": [
      "psi is Statevector([0.+0.j, 0.+0.j, 0.+0.j, 0.+0.j, 1.+0.j, 0.+0.j, 0.+0.j,\n",
      "             0.+0.j],\n",
      "            dims=(2, 2, 2))\n"
     ]
    }
   ],
   "source": [
    "psi = one.tensor(zero.tensor(zero))\n",
    "print(\"psi is\",psi)"
   ]
  },
  {
   "cell_type": "code",
   "execution_count": 43,
   "metadata": {
    "id": "GVaxcff6ZCuq"
   },
   "outputs": [
    {
     "data": {
      "text/latex": [
       "$$ |100\\rangle$$"
      ],
      "text/plain": [
       "<IPython.core.display.Latex object>"
      ]
     },
     "execution_count": 43,
     "metadata": {},
     "output_type": "execute_result"
    }
   ],
   "source": [
    "psi = one^zero^zero\n",
    "psi.draw(\"latex\")"
   ]
  },
  {
   "cell_type": "code",
   "execution_count": 7,
   "metadata": {
    "id": "GLDLHezZZHl3"
   },
   "outputs": [],
   "source": [
    "psi = Statevector.from_int(4, dims = 8)\n"
   ]
  },
  {
   "cell_type": "code",
   "execution_count": 8,
   "metadata": {
    "id": "FuDU-1mvZLii"
   },
   "outputs": [],
   "source": [
    "from numpy import sqrt\n",
    "ghz = 1/sqrt(2)*(zero^zero^zero) + 1/sqrt(2)*(one^one^one)"
   ]
  },
  {
   "cell_type": "code",
   "execution_count": 9,
   "metadata": {
    "id": "ZB20QWVCZRTn"
   },
   "outputs": [
    {
     "name": "stdout",
     "output_type": "stream",
     "text": [
      "And its matrix is\n",
      "[[ 1.+0.j  0.+0.j  0.+0.j  0.+0.j  0.+0.j  0.+0.j  0.+0.j  0.+0.j]\n",
      " [ 0.+0.j  1.+0.j  0.+0.j  0.+0.j  0.+0.j  0.+0.j  0.+0.j  0.+0.j]\n",
      " [ 0.+0.j  0.+0.j -1.+0.j  0.+0.j  0.+0.j  0.+0.j  0.+0.j  0.+0.j]\n",
      " [ 0.+0.j  0.+0.j  0.+0.j -1.+0.j  0.+0.j  0.+0.j  0.+0.j  0.+0.j]\n",
      " [ 0.+0.j  0.+0.j  0.+0.j  0.+0.j -1.+0.j  0.+0.j  0.+0.j  0.+0.j]\n",
      " [ 0.+0.j  0.+0.j  0.+0.j  0.+0.j  0.+0.j -1.+0.j  0.+0.j  0.+0.j]\n",
      " [ 0.+0.j  0.+0.j  0.+0.j  0.+0.j  0.+0.j  0.+0.j  1.+0.j  0.+0.j]\n",
      " [ 0.+0.j  0.+0.j  0.+0.j  0.+0.j  0.+0.j  0.+0.j  0.+0.j  1.+0.j]]\n"
     ]
    }
   ],
   "source": [
    "from qiskit.quantum_info import Pauli\n",
    "\n",
    "Z0Z1 = Pauli(\"ZZI\")\n",
    "print(\"And its matrix is\")\n",
    "print(Z0Z1.to_matrix())"
   ]
  },
  {
   "cell_type": "code",
   "execution_count": 10,
   "metadata": {
    "id": "MvMceulAZUeG"
   },
   "outputs": [
    {
     "name": "stdout",
     "output_type": "stream",
     "text": [
      "The sparse representation of Z0Z1 is\n",
      "  (0, 0)\t(1+0j)\n",
      "  (1, 1)\t(1+0j)\n",
      "  (2, 2)\t(-1+0j)\n",
      "  (3, 3)\t(-1+0j)\n",
      "  (4, 4)\t(-1+0j)\n",
      "  (5, 5)\t(-1+0j)\n",
      "  (6, 6)\t(1+0j)\n",
      "  (7, 7)\t(1+0j)\n"
     ]
    }
   ],
   "source": [
    "print(\"The sparse representation of Z0Z1 is\")\n",
    "print(Z0Z1.to_matrix(sparse=True))"
   ]
  },
  {
   "cell_type": "code",
   "execution_count": 11,
   "metadata": {
    "id": "ZqUHzFDLZZoj"
   },
   "outputs": [],
   "source": [
    "Z0Z1 = Pauli(([0,1,1],[0,0,0]))\n"
   ]
  },
  {
   "cell_type": "code",
   "execution_count": 27,
   "metadata": {
    "id": "pSJUs9XkZcQi"
   },
   "outputs": [
    {
     "name": "stdout",
     "output_type": "stream",
     "text": [
      "H_cut is\n",
      "[[ 2.+0.j  0.+0.j  0.+0.j  0.+0.j  0.+0.j  0.+0.j  0.+0.j  0.+0.j]\n",
      " [ 0.+0.j  0.+0.j  0.+0.j  0.+0.j  0.+0.j  0.+0.j  0.+0.j  0.+0.j]\n",
      " [ 0.+0.j  0.+0.j  0.+0.j  0.+0.j  0.+0.j  0.+0.j  0.+0.j  0.+0.j]\n",
      " [ 0.+0.j  0.+0.j  0.+0.j -2.+0.j  0.+0.j  0.+0.j  0.+0.j  0.+0.j]\n",
      " [ 0.+0.j  0.+0.j  0.+0.j  0.+0.j -2.+0.j  0.+0.j  0.+0.j  0.+0.j]\n",
      " [ 0.+0.j  0.+0.j  0.+0.j  0.+0.j  0.+0.j  0.+0.j  0.+0.j  0.+0.j]\n",
      " [ 0.+0.j  0.+0.j  0.+0.j  0.+0.j  0.+0.j  0.+0.j  0.+0.j  0.+0.j]\n",
      " [ 0.+0.j  0.+0.j  0.+0.j  0.+0.j  0.+0.j  0.+0.j  0.+0.j  2.+0.j]]\n",
      "The sparse representation of H_cut is\n",
      "  (0, 0)\t(2+0j)\n",
      "  (3, 3)\t(-2+0j)\n",
      "  (4, 4)\t(-2+0j)\n",
      "  (7, 7)\t(2+0j)\n"
     ]
    }
   ],
   "source": [
    "#from qiskit.opflow.primitive_ops import PauliOp ## Depreciado\n",
    "from qiskit.quantum_info import Operator\n",
    "from scipy import sparse\n",
    "\n",
    "H_cut = Operator(Pauli(\"ZZI\")) + Operator(Pauli(\"ZIZ\"))\n",
    "\n",
    "#HH_cut = PauliOp(Pauli(\"ZZI\")) + PauliOp(Pauli(\"ZIZ\")) ## Depreciado\n",
    "\n",
    "print(\"H_cut is\")\n",
    "print(H_cut.to_matrix())\n",
    "print(\"The sparse representation of H_cut is\")\n",
    "print(sparse.csr_matrix(H_cut.to_matrix()))\n",
    "\n",
    "#print(H_cut.to_spmatrix()) ## Depreciado\n"
   ]
  },
  {
   "cell_type": "code",
   "execution_count": 28,
   "metadata": {
    "id": "Y99EIyG4ZfMD"
   },
   "outputs": [
    {
     "name": "stdout",
     "output_type": "stream",
     "text": [
      "H_cut is\n",
      "1.0 * ZZI\n",
      "+ 1.0 * ZIZ\n",
      "\n",
      " [[ 2.+0.j  0.+0.j  0.+0.j  0.+0.j  0.+0.j  0.+0.j  0.+0.j  0.+0.j]\n",
      "  [ 0.+0.j  0.+0.j  0.+0.j  0.+0.j  0.+0.j  0.+0.j  0.+0.j  0.+0.j]\n",
      "  [ 0.+0.j  0.+0.j  0.+0.j  0.+0.j  0.+0.j  0.+0.j  0.+0.j  0.+0.j]\n",
      "  [ 0.+0.j  0.+0.j  0.+0.j -2.+0.j  0.+0.j  0.+0.j  0.+0.j  0.+0.j]\n",
      "  [ 0.+0.j  0.+0.j  0.+0.j  0.+0.j -2.+0.j  0.+0.j  0.+0.j  0.+0.j]\n",
      "  [ 0.+0.j  0.+0.j  0.+0.j  0.+0.j  0.+0.j  0.+0.j  0.+0.j  0.+0.j]\n",
      "  [ 0.+0.j  0.+0.j  0.+0.j  0.+0.j  0.+0.j  0.+0.j  0.+0.j  0.+0.j]\n",
      " [ 0.+0.j  0.+0.j  0.+0.j  0.+0.j  0.+0.j  0.+0.j  0.+0.j  2.+0.j]]\n",
      "\n",
      "⎡2.0  0  0   0     0    0  0   0 ⎤\n",
      "⎢                                ⎥\n",
      "⎢ 0   0  0   0     0    0  0   0 ⎥\n",
      "⎢                                ⎥\n",
      "⎢ 0   0  0   0     0    0  0   0 ⎥\n",
      "⎢                                ⎥\n",
      "⎢ 0   0  0  -2.0   0    0  0   0 ⎥\n",
      "⎢                                ⎥\n",
      "⎢ 0   0  0   0    -2.0  0  0   0 ⎥\n",
      "⎢                                ⎥\n",
      "⎢ 0   0  0   0     0    0  0   0 ⎥\n",
      "⎢                                ⎥\n",
      "⎢ 0   0  0   0     0    0  0   0 ⎥\n",
      "⎢                                ⎥\n",
      "⎣ 0   0  0   0     0    0  0  2.0⎦\n"
     ]
    }
   ],
   "source": [
    "from qiskit.opflow import I, Z\n",
    "\n",
    "from sympy import Matrix, pprint\n",
    "\n",
    "H_cut = (Z^Z^I) + (Z^I^Z)\n",
    "print(\"H_cut is\")\n",
    "print(H_cut)\n",
    "print()\n",
    "pprint(H_cut.to_matrix())\n",
    "print()\n",
    "pprint(Matrix(H_cut.to_matrix()))\n"
   ]
  },
  {
   "cell_type": "code",
   "execution_count": 29,
   "metadata": {
    "id": "YWGLJ_ihZiOI"
   },
   "outputs": [],
   "source": [
    "H_ising = -0.5*(Z^Z^I) + 2*(Z^I^Z) -(I^Z^Z) + (I^Z^I) -5*(I^I^Z)\n"
   ]
  },
  {
   "cell_type": "code",
   "execution_count": 24,
   "metadata": {
    "id": "3LT0fPr_ZlYs"
   },
   "outputs": [
    {
     "name": "stdout",
     "output_type": "stream",
     "text": [
      "The expectation value is (-2+0j)\n"
     ]
    }
   ],
   "source": [
    "print(\"The expectation value is\", psi.expectation_value(H_cut))\n"
   ]
  },
  {
   "cell_type": "code",
   "execution_count": 25,
   "metadata": {
    "id": "AIco0JrvZoHw"
   },
   "outputs": [
    {
     "name": "stdout",
     "output_type": "stream",
     "text": [
      "The expectation value is (-2+0j)\n"
     ]
    }
   ],
   "source": [
    "print(\"The expectation value is\", psi.inner(psi.evolve(H_cut)))\n"
   ]
  },
  {
   "cell_type": "code",
   "execution_count": 45,
   "metadata": {
    "id": "yuJbekb5Zrys"
   },
   "outputs": [
    {
     "name": "stdout",
     "output_type": "stream",
     "text": [
      "The expectation value of | 0 > is (2+0j)\n",
      "The expectation value of | 1 > is 0j\n",
      "The expectation value of | 2 > is 0j\n",
      "The expectation value of | 3 > is (-2+0j)\n",
      "The expectation value of | 4 > is (-2+0j)\n",
      "The expectation value of | 5 > is 0j\n",
      "The expectation value of | 6 > is 0j\n",
      "The expectation value of | 7 > is (2+0j)\n"
     ]
    }
   ],
   "source": [
    "from qiskit.quantum_info import Pauli\n",
    "from qiskit.opflow.primitive_ops import PauliOp\n",
    "from qiskit.quantum_info import Statevector\n",
    "from sympy.physics.quantum import Bra,Ket\n",
    "\n",
    "#H_cut = PauliOp(Pauli(\"ZZI\")) + PauliOp(Pauli(\"ZIZ\")) ## Depreciado\n",
    "H_cut = Operator(Pauli(\"ZZI\")) + Operator(Pauli(\"ZIZ\"))\n",
    "for x in range(8): # We consider x=0,1...7\n",
    "    psi = psi = Statevector.from_int(x, dims = 8)\n",
    "    #x = Ket(x)\n",
    "    #pprint(x)    \n",
    "    print(\"The expectation value of |\",x,\"> is\", \n",
    "        psi.expectation_value(H_cut))"
   ]
  },
  {
   "cell_type": "code",
   "execution_count": null,
   "metadata": {},
   "outputs": [],
   "source": []
  }
 ],
 "metadata": {
  "colab": {
   "provenance": []
  },
  "kernelspec": {
   "display_name": "Python 3 (ipykernel)",
   "language": "python",
   "name": "python3"
  },
  "language_info": {
   "codemirror_mode": {
    "name": "ipython",
    "version": 3
   },
   "file_extension": ".py",
   "mimetype": "text/x-python",
   "name": "python",
   "nbconvert_exporter": "python",
   "pygments_lexer": "ipython3",
   "version": "3.9.16"
  }
 },
 "nbformat": 4,
 "nbformat_minor": 4
}

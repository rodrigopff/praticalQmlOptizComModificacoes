{
 "cells": [
  {
   "cell_type": "markdown",
   "metadata": {
    "id": "UmvGv70AUVA3"
   },
   "source": [
    "# CHAPTER 3 - Working with Quadratic Unconstrained Binary Optimization Problems"
   ]
  },
  {
   "cell_type": "markdown",
   "metadata": {
    "id": "aP-Bp7kkUgDJ"
   },
   "source": [
    "*Note*: You may skip the following cell if you have alredy installed the right versions of all the libraries mentioned in *Appendix D*. This will likely NOT be the case if you are running this notebook on a cloud service such as Google Colab."
   ]
  },
  {
   "cell_type": "code",
   "execution_count": 17,
   "metadata": {
    "id": "CZnFNAaeYIn0"
   },
   "outputs": [
    {
     "name": "stdout",
     "output_type": "stream",
     "text": [
      "Collecting qiskit==0.39.2\n",
      "  Using cached qiskit-0.39.2.tar.gz (13 kB)\n",
      "  Preparing metadata (setup.py) ... \u001b[?25ldone\n",
      "\u001b[?25hCollecting qiskit-terra==0.22.2 (from qiskit==0.39.2)\n",
      "  Downloading qiskit_terra-0.22.2-cp310-cp310-manylinux_2_17_x86_64.manylinux2014_x86_64.whl (4.8 MB)\n",
      "\u001b[2K     \u001b[38;2;114;156;31m━━━━━━━━━━━━━━━━━━━━━━━━━━━━━━━━━━━━━━━━\u001b[0m \u001b[32m4.8/4.8 MB\u001b[0m \u001b[31m2.0 MB/s\u001b[0m eta \u001b[36m0:00:00\u001b[0mm eta \u001b[36m0:00:01\u001b[0m[36m0:00:01\u001b[0m\n",
      "\u001b[?25hCollecting qiskit-aer==0.11.1 (from qiskit==0.39.2)\n",
      "  Downloading qiskit_aer-0.11.1-cp310-cp310-manylinux_2_17_x86_64.manylinux2014_x86_64.whl (19.2 MB)\n",
      "\u001b[2K     \u001b[38;2;114;156;31m━━━━━━━━━━━━━━━━━━━━━━━━━━━━━━━━━━━━━━━━\u001b[0m \u001b[32m19.2/19.2 MB\u001b[0m \u001b[31m3.2 MB/s\u001b[0m eta \u001b[36m0:00:00\u001b[0mm eta \u001b[36m0:00:01\u001b[0m0:01\u001b[0m:01\u001b[0m\n",
      "\u001b[?25hCollecting qiskit-ibmq-provider==0.19.2 (from qiskit==0.39.2)\n",
      "  Downloading qiskit_ibmq_provider-0.19.2-py3-none-any.whl (240 kB)\n",
      "\u001b[2K     \u001b[38;2;114;156;31m━━━━━━━━━━━━━━━━━━━━━━━━━━━━━━━━━━━━━━\u001b[0m \u001b[32m240.4/240.4 kB\u001b[0m \u001b[31m14.3 MB/s\u001b[0m eta \u001b[36m0:00:00\u001b[0m\n",
      "\u001b[?25hRequirement already satisfied: numpy>=1.16.3 in /home/furtado/anaconda3/envs/qmlPraticalOpt/lib/python3.10/site-packages (from qiskit-aer==0.11.1->qiskit==0.39.2) (1.23.5)\n",
      "Requirement already satisfied: scipy>=1.0 in /home/furtado/anaconda3/envs/qmlPraticalOpt/lib/python3.10/site-packages (from qiskit-aer==0.11.1->qiskit==0.39.2) (1.10.1)\n",
      "Requirement already satisfied: requests>=2.19 in /home/furtado/anaconda3/envs/qmlPraticalOpt/lib/python3.10/site-packages (from qiskit-ibmq-provider==0.19.2->qiskit==0.39.2) (2.31.0)\n",
      "Requirement already satisfied: requests-ntlm>=1.1.0 in /home/furtado/anaconda3/envs/qmlPraticalOpt/lib/python3.10/site-packages (from qiskit-ibmq-provider==0.19.2->qiskit==0.39.2) (1.1.0)\n",
      "Requirement already satisfied: urllib3>=1.21.1 in /home/furtado/anaconda3/envs/qmlPraticalOpt/lib/python3.10/site-packages (from qiskit-ibmq-provider==0.19.2->qiskit==0.39.2) (1.26.16)\n",
      "Requirement already satisfied: python-dateutil>=2.8.0 in /home/furtado/anaconda3/envs/qmlPraticalOpt/lib/python3.10/site-packages (from qiskit-ibmq-provider==0.19.2->qiskit==0.39.2) (2.8.2)\n",
      "Requirement already satisfied: websocket-client>=1.0.1 in /home/furtado/anaconda3/envs/qmlPraticalOpt/lib/python3.10/site-packages (from qiskit-ibmq-provider==0.19.2->qiskit==0.39.2) (1.5.2)\n",
      "Requirement already satisfied: websockets>=10.0 in /home/furtado/anaconda3/envs/qmlPraticalOpt/lib/python3.10/site-packages (from qiskit-ibmq-provider==0.19.2->qiskit==0.39.2) (11.0.3)\n",
      "Collecting retworkx>=0.11.0 (from qiskit-terra==0.22.2->qiskit==0.39.2)\n",
      "  Using cached retworkx-0.12.1-py3-none-any.whl (10 kB)\n",
      "Requirement already satisfied: ply>=3.10 in /home/furtado/anaconda3/envs/qmlPraticalOpt/lib/python3.10/site-packages (from qiskit-terra==0.22.2->qiskit==0.39.2) (3.11)\n",
      "Requirement already satisfied: psutil>=5 in /home/furtado/anaconda3/envs/qmlPraticalOpt/lib/python3.10/site-packages (from qiskit-terra==0.22.2->qiskit==0.39.2) (5.9.5)\n",
      "Requirement already satisfied: sympy>=1.3 in /home/furtado/anaconda3/envs/qmlPraticalOpt/lib/python3.10/site-packages (from qiskit-terra==0.22.2->qiskit==0.39.2) (1.12)\n",
      "Requirement already satisfied: dill>=0.3 in /home/furtado/anaconda3/envs/qmlPraticalOpt/lib/python3.10/site-packages (from qiskit-terra==0.22.2->qiskit==0.39.2) (0.3.6)\n",
      "Requirement already satisfied: stevedore>=3.0.0 in /home/furtado/anaconda3/envs/qmlPraticalOpt/lib/python3.10/site-packages (from qiskit-terra==0.22.2->qiskit==0.39.2) (5.1.0)\n",
      "Requirement already satisfied: symengine>=0.9 in /home/furtado/anaconda3/envs/qmlPraticalOpt/lib/python3.10/site-packages (from qiskit-terra==0.22.2->qiskit==0.39.2) (0.9.2)\n",
      "Collecting tweedledum<2.0,>=1.1 (from qiskit-terra==0.22.2->qiskit==0.39.2)\n",
      "  Downloading tweedledum-1.1.1-cp310-cp310-manylinux_2_12_x86_64.manylinux2010_x86_64.whl (929 kB)\n",
      "\u001b[2K     \u001b[38;2;114;156;31m━━━━━━━━━━━━━━━━━━━━━━━━━━━━━━━━━━━━━━\u001b[0m \u001b[32m929.7/929.7 kB\u001b[0m \u001b[31m35.7 MB/s\u001b[0m eta \u001b[36m0:00:00\u001b[0m\n",
      "\u001b[?25hRequirement already satisfied: six>=1.5 in /home/furtado/anaconda3/envs/qmlPraticalOpt/lib/python3.10/site-packages (from python-dateutil>=2.8.0->qiskit-ibmq-provider==0.19.2->qiskit==0.39.2) (1.16.0)\n",
      "Requirement already satisfied: charset-normalizer<4,>=2 in /home/furtado/anaconda3/envs/qmlPraticalOpt/lib/python3.10/site-packages (from requests>=2.19->qiskit-ibmq-provider==0.19.2->qiskit==0.39.2) (3.1.0)\n",
      "Requirement already satisfied: idna<4,>=2.5 in /home/furtado/anaconda3/envs/qmlPraticalOpt/lib/python3.10/site-packages (from requests>=2.19->qiskit-ibmq-provider==0.19.2->qiskit==0.39.2) (3.4)\n",
      "Requirement already satisfied: certifi>=2017.4.17 in /home/furtado/anaconda3/envs/qmlPraticalOpt/lib/python3.10/site-packages (from requests>=2.19->qiskit-ibmq-provider==0.19.2->qiskit==0.39.2) (2023.5.7)\n",
      "Requirement already satisfied: ntlm-auth>=1.0.2 in /home/furtado/anaconda3/envs/qmlPraticalOpt/lib/python3.10/site-packages (from requests-ntlm>=1.1.0->qiskit-ibmq-provider==0.19.2->qiskit==0.39.2) (1.5.0)\n",
      "Requirement already satisfied: cryptography>=1.3 in /home/furtado/anaconda3/envs/qmlPraticalOpt/lib/python3.10/site-packages (from requests-ntlm>=1.1.0->qiskit-ibmq-provider==0.19.2->qiskit==0.39.2) (40.0.2)\n",
      "Requirement already satisfied: rustworkx==0.12.1 in /home/furtado/anaconda3/envs/qmlPraticalOpt/lib/python3.10/site-packages (from retworkx>=0.11.0->qiskit-terra==0.22.2->qiskit==0.39.2) (0.12.1)\n",
      "Requirement already satisfied: pbr!=2.1.0,>=2.0.0 in /home/furtado/anaconda3/envs/qmlPraticalOpt/lib/python3.10/site-packages (from stevedore>=3.0.0->qiskit-terra==0.22.2->qiskit==0.39.2) (5.11.1)\n",
      "Requirement already satisfied: mpmath>=0.19 in /home/furtado/anaconda3/envs/qmlPraticalOpt/lib/python3.10/site-packages (from sympy>=1.3->qiskit-terra==0.22.2->qiskit==0.39.2) (1.3.0)\n",
      "Requirement already satisfied: cffi>=1.12 in /home/furtado/anaconda3/envs/qmlPraticalOpt/lib/python3.10/site-packages (from cryptography>=1.3->requests-ntlm>=1.1.0->qiskit-ibmq-provider==0.19.2->qiskit==0.39.2) (1.15.1)\n",
      "Requirement already satisfied: pycparser in /home/furtado/anaconda3/envs/qmlPraticalOpt/lib/python3.10/site-packages (from cffi>=1.12->cryptography>=1.3->requests-ntlm>=1.1.0->qiskit-ibmq-provider==0.19.2->qiskit==0.39.2) (2.21)\n",
      "Building wheels for collected packages: qiskit\n",
      "  Building wheel for qiskit (setup.py) ... \u001b[?25ldone\n",
      "\u001b[?25h  Created wheel for qiskit: filename=qiskit-0.39.2-py3-none-any.whl size=12206 sha256=50b6d60c6a09e15bed9413a357fa7304cf3180dc24a148d7999b385122e3357e\n",
      "  Stored in directory: /home/furtado/.cache/pip/wheels/c0/c4/14/6cf1cf2bb77272dd8844719494da64296f68deae675b735717\n",
      "Successfully built qiskit\n",
      "Installing collected packages: tweedledum, retworkx, qiskit-terra, qiskit-ibmq-provider, qiskit-aer, qiskit\n",
      "  Attempting uninstall: qiskit-terra\n",
      "    Found existing installation: qiskit-terra 0.24.0\n",
      "    Uninstalling qiskit-terra-0.24.0:\n",
      "      Successfully uninstalled qiskit-terra-0.24.0\n",
      "  Attempting uninstall: qiskit-ibmq-provider\n",
      "    Found existing installation: qiskit-ibmq-provider 0.20.2\n",
      "    Uninstalling qiskit-ibmq-provider-0.20.2:\n",
      "      Successfully uninstalled qiskit-ibmq-provider-0.20.2\n",
      "  Attempting uninstall: qiskit-aer\n",
      "    Found existing installation: qiskit-aer 0.12.0\n",
      "    Uninstalling qiskit-aer-0.12.0:\n",
      "      Successfully uninstalled qiskit-aer-0.12.0\n",
      "  Attempting uninstall: qiskit\n",
      "    Found existing installation: qiskit 0.43.0\n",
      "    Uninstalling qiskit-0.43.0:\n",
      "      Successfully uninstalled qiskit-0.43.0\n",
      "\u001b[31mERROR: pip's dependency resolver does not currently take into account all the packages that are installed. This behaviour is the source of the following dependency conflicts.\n",
      "qiskit-ibm-provider 0.6.0 requires qiskit-terra>=0.24.0, but you have qiskit-terra 0.22.2 which is incompatible.\n",
      "qiskit-ibm-runtime 0.10.0 requires qiskit-terra>=0.24.0, but you have qiskit-terra 0.22.2 which is incompatible.\n",
      "qiskit-nature 0.6.1 requires qiskit-terra>=0.24, but you have qiskit-terra 0.22.2 which is incompatible.\n",
      "qiskit-optimization 0.5.0 requires qiskit-terra>=0.22.4, but you have qiskit-terra 0.22.2 which is incompatible.\u001b[0m\u001b[31m\n",
      "\u001b[0mSuccessfully installed qiskit-0.39.2 qiskit-aer-0.11.1 qiskit-ibmq-provider-0.19.2 qiskit-terra-0.22.2 retworkx-0.12.1 tweedledum-1.1.1\n"
     ]
    },
    {
     "name": "stdout",
     "output_type": "stream",
     "text": [
      "Note: you may need to restart the kernel to use updated packages.\n"
     ]
    }
   ],
   "source": [
    "pip install qiskit==0.39.2"
   ]
  },
  {
   "cell_type": "code",
   "execution_count": 1,
   "metadata": {
    "id": "Gjx-nOMxYwii"
   },
   "outputs": [
    {
     "name": "stdout",
     "output_type": "stream",
     "text": [
      "zero is Statevector([1.+0.j, 0.+0.j],\n",
      "            dims=(2,))\n"
     ]
    }
   ],
   "source": [
    "from qiskit.quantum_info import Statevector\n",
    "zero = Statevector([1,0])\n",
    "print(\"zero is\", zero)"
   ]
  },
  {
   "cell_type": "code",
   "execution_count": 2,
   "metadata": {
    "id": "En0aSXKQYxoJ"
   },
   "outputs": [
    {
     "name": "stdout",
     "output_type": "stream",
     "text": [
      "one is Statevector([0.+0.j, 1.+0.j],\n",
      "            dims=(2,))\n"
     ]
    }
   ],
   "source": [
    "one = Statevector([0,1])\n",
    "print(\"one is\",one)"
   ]
  },
  {
   "cell_type": "code",
   "execution_count": 3,
   "metadata": {
    "id": "T9MKfavZY7rZ"
   },
   "outputs": [
    {
     "name": "stdout",
     "output_type": "stream",
     "text": [
      "zero is Statevector([1.+0.j, 0.+0.j],\n",
      "            dims=(2,))\n",
      "one is Statevector([0.+0.j, 1.+0.j],\n",
      "            dims=(2,))\n"
     ]
    }
   ],
   "source": [
    "zero = Statevector.from_int(0, dims = 2)\n",
    "one = Statevector.from_int(1, dims = 2)\n",
    "print(\"zero is\",zero)\n",
    "print(\"one is\",one)"
   ]
  },
  {
   "cell_type": "code",
   "execution_count": 4,
   "metadata": {
    "id": "fMLAvqhHY-qi"
   },
   "outputs": [
    {
     "name": "stdout",
     "output_type": "stream",
     "text": [
      "psi is Statevector([0.+0.j, 0.+0.j, 0.+0.j, 0.+0.j, 1.+0.j, 0.+0.j, 0.+0.j,\n",
      "             0.+0.j],\n",
      "            dims=(2, 2, 2))\n"
     ]
    }
   ],
   "source": [
    "psi = one.tensor(zero.tensor(zero))\n",
    "print(\"psi is\",psi)"
   ]
  },
  {
   "cell_type": "code",
   "execution_count": 5,
   "metadata": {
    "id": "GVaxcff6ZCuq"
   },
   "outputs": [
    {
     "data": {
      "text/latex": [
       "$$ |100\\rangle$$"
      ],
      "text/plain": [
       "<IPython.core.display.Latex object>"
      ]
     },
     "execution_count": 5,
     "metadata": {},
     "output_type": "execute_result"
    }
   ],
   "source": [
    "psi = one^zero^zero\n",
    "psi.draw(\"latex\")"
   ]
  },
  {
   "cell_type": "code",
   "execution_count": 6,
   "metadata": {
    "id": "GLDLHezZZHl3"
   },
   "outputs": [],
   "source": [
    "psi = Statevector.from_int(4, dims = 8)\n"
   ]
  },
  {
   "cell_type": "code",
   "execution_count": 7,
   "metadata": {
    "id": "FuDU-1mvZLii"
   },
   "outputs": [],
   "source": [
    "from numpy import sqrt\n",
    "ghz = 1/sqrt(2)*(zero^zero^zero) + 1/sqrt(2)*(one^one^one)"
   ]
  },
  {
   "cell_type": "code",
   "execution_count": 8,
   "metadata": {
    "id": "ZB20QWVCZRTn"
   },
   "outputs": [
    {
     "name": "stdout",
     "output_type": "stream",
     "text": [
      "Z0Z1 is ZZI\n",
      "And its matrix is\n",
      "[[ 1.+0.j  0.+0.j  0.+0.j  0.+0.j  0.+0.j  0.+0.j  0.+0.j  0.+0.j]\n",
      " [ 0.+0.j  1.+0.j  0.+0.j  0.+0.j  0.+0.j  0.+0.j  0.+0.j  0.+0.j]\n",
      " [ 0.+0.j  0.+0.j -1.+0.j  0.+0.j  0.+0.j  0.+0.j  0.+0.j  0.+0.j]\n",
      " [ 0.+0.j  0.+0.j  0.+0.j -1.+0.j  0.+0.j  0.+0.j  0.+0.j  0.+0.j]\n",
      " [ 0.+0.j  0.+0.j  0.+0.j  0.+0.j -1.+0.j  0.+0.j  0.+0.j  0.+0.j]\n",
      " [ 0.+0.j  0.+0.j  0.+0.j  0.+0.j  0.+0.j -1.+0.j  0.+0.j  0.+0.j]\n",
      " [ 0.+0.j  0.+0.j  0.+0.j  0.+0.j  0.+0.j  0.+0.j  1.+0.j  0.+0.j]\n",
      " [ 0.+0.j  0.+0.j  0.+0.j  0.+0.j  0.+0.j  0.+0.j  0.+0.j  1.+0.j]]\n"
     ]
    }
   ],
   "source": [
    "from qiskit.quantum_info import Pauli\n",
    "Z0Z1 = Pauli(\"ZZI\")\n",
    "print(\"Z0Z1 is\",Z0Z1)\n",
    "print(\"And its matrix is\")\n",
    "print(Z0Z1.to_matrix())"
   ]
  },
  {
   "cell_type": "code",
   "execution_count": 9,
   "metadata": {
    "id": "MvMceulAZUeG"
   },
   "outputs": [
    {
     "name": "stdout",
     "output_type": "stream",
     "text": [
      "The sparse representation of Z0Z1 is\n",
      "  (0, 0)\t(1+0j)\n",
      "  (1, 1)\t(1+0j)\n",
      "  (2, 2)\t(-1+0j)\n",
      "  (3, 3)\t(-1+0j)\n",
      "  (4, 4)\t(-1+0j)\n",
      "  (5, 5)\t(-1+0j)\n",
      "  (6, 6)\t(1+0j)\n",
      "  (7, 7)\t(1+0j)\n"
     ]
    }
   ],
   "source": [
    "print(\"The sparse representation of Z0Z1 is\")\n",
    "print(Z0Z1.to_matrix(sparse=True))"
   ]
  },
  {
   "cell_type": "code",
   "execution_count": 10,
   "metadata": {
    "id": "ZqUHzFDLZZoj"
   },
   "outputs": [],
   "source": [
    "Z0Z1 = Pauli(([0,1,1],[0,0,0]))\n"
   ]
  },
  {
   "cell_type": "code",
   "execution_count": 11,
   "metadata": {
    "id": "pSJUs9XkZcQi"
   },
   "outputs": [
    {
     "name": "stdout",
     "output_type": "stream",
     "text": [
      "H_cut is\n",
      "1.0 * ZZI\n",
      "+ 1.0 * ZIZ\n",
      "The sparse representation of H_cut is\n",
      "  (0, 0)\t(2+0j)\n",
      "  (3, 3)\t(-2+0j)\n",
      "  (4, 4)\t(-2+0j)\n",
      "  (7, 7)\t(2+0j)\n"
     ]
    }
   ],
   "source": [
    "from qiskit.opflow.primitive_ops import PauliOp\n",
    "H_cut = PauliOp(Pauli(\"ZZI\")) + PauliOp(Pauli(\"ZIZ\"))\n",
    "print(\"H_cut is\")\n",
    "print(H_cut)\n",
    "print(\"The sparse representation of H_cut is\")\n",
    "print(H_cut.to_spmatrix())"
   ]
  },
  {
   "cell_type": "code",
   "execution_count": 12,
   "metadata": {
    "id": "Y99EIyG4ZfMD"
   },
   "outputs": [
    {
     "name": "stdout",
     "output_type": "stream",
     "text": [
      "H_cut is\n",
      "1.0 * ZZI\n",
      "+ 1.0 * ZIZ\n"
     ]
    }
   ],
   "source": [
    "from qiskit.opflow import I, Z\n",
    "H_cut = (Z^Z^I) + (Z^I^Z)\n",
    "print(\"H_cut is\")\n",
    "print(H_cut)"
   ]
  },
  {
   "cell_type": "code",
   "execution_count": 13,
   "metadata": {
    "id": "YWGLJ_ihZiOI"
   },
   "outputs": [],
   "source": [
    "H_ising = -0.5*(Z^Z^I) + 2*(Z^I^Z) -(I^Z^Z) + (I^Z^I) -5*(I^I^Z)\n"
   ]
  },
  {
   "cell_type": "code",
   "execution_count": 14,
   "metadata": {
    "id": "3LT0fPr_ZlYs"
   },
   "outputs": [
    {
     "name": "stdout",
     "output_type": "stream",
     "text": [
      "The expectation value is (-2+0j)\n"
     ]
    }
   ],
   "source": [
    "print(\"The expectation value is\", psi.expectation_value(H_cut))\n"
   ]
  },
  {
   "cell_type": "code",
   "execution_count": 15,
   "metadata": {
    "id": "AIco0JrvZoHw"
   },
   "outputs": [
    {
     "name": "stdout",
     "output_type": "stream",
     "text": [
      "The expectation value is (-2+0j)\n"
     ]
    }
   ],
   "source": [
    "print(\"The expectation value is\", psi.inner(psi.evolve(H_cut)))\n"
   ]
  },
  {
   "cell_type": "code",
   "execution_count": 17,
   "metadata": {
    "id": "yuJbekb5Zrys"
   },
   "outputs": [
    {
     "name": "stdout",
     "output_type": "stream",
     "text": [
      "The expectation value of | 0 > is (2+0j)\n",
      "The expectation value of | 1 > is 0j\n",
      "The expectation value of | 2 > is 0j\n",
      "The expectation value of | 3 > is (-2+0j)\n",
      "The expectation value of | 4 > is (-2+0j)\n",
      "The expectation value of | 5 > is 0j\n",
      "The expectation value of | 6 > is 0j\n",
      "The expectation value of | 7 > is (2+0j)\n"
     ]
    }
   ],
   "source": [
    "from qiskit.quantum_info import Pauli\n",
    "from qiskit.opflow.primitive_ops import PauliOp\n",
    "from qiskit.quantum_info import Statevector\n",
    "H_cut = PauliOp(Pauli(\"ZZI\")) + PauliOp(Pauli(\"ZIZ\"))\n",
    "for x in range(8): # We consider x=0,1...7\n",
    "    psi = psi = Statevector.from_int(x, dims = 8)\n",
    "    print(\"The expectation value of |\",x,\">\", \"is\", \n",
    "        psi.expectation_value(H_cut))"
   ]
  },
  {
   "cell_type": "code",
   "execution_count": null,
   "metadata": {},
   "outputs": [],
   "source": []
  }
 ],
 "metadata": {
  "colab": {
   "provenance": []
  },
  "kernelspec": {
   "display_name": "Python 3 (ipykernel)",
   "language": "python",
   "name": "python3"
  },
  "language_info": {
   "codemirror_mode": {
    "name": "ipython",
    "version": 3
   },
   "file_extension": ".py",
   "mimetype": "text/x-python",
   "name": "python",
   "nbconvert_exporter": "python",
   "pygments_lexer": "ipython3",
   "version": "3.10.11"
  }
 },
 "nbformat": 4,
 "nbformat_minor": 1
}

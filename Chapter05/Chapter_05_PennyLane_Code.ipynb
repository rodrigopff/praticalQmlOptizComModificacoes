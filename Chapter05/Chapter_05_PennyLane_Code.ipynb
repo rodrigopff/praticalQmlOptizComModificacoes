{
  "nbformat": 4,
  "nbformat_minor": 0,
  "metadata": {
    "colab": {
      "provenance": []
    },
    "kernelspec": {
      "name": "python3",
      "display_name": "Python 3"
    },
    "language_info": {
      "name": "python"
    }
  },
  "cells": [
    {
      "cell_type": "markdown",
      "source": [
        "# CHAPTER 5 - QAOA: Quantum Approximate Optimization Algorithm - PennyLane Code"
      ],
      "metadata": {
        "id": "ruEam3mqaTKm"
      }
    },
    {
      "cell_type": "markdown",
      "source": [
        "*Note*: You may skip the following cell if you have alredy installed the right versions of all the libraries mentioned in *Appendix D*. This will likely NOT be the case if you are running this notebook on a cloud service such as Google Colab."
      ],
      "metadata": {
        "id": "Sf7ikmNmacxi"
      }
    },
    {
      "cell_type": "code",
      "execution_count": null,
      "metadata": {
        "id": "saNQz_o7dUEC"
      },
      "outputs": [],
      "source": [
        "pip install pennylane==0.26.0"
      ]
    },
    {
      "cell_type": "code",
      "source": [
        "import pennylane as qml\n",
        "from pennylane import PauliZ\n",
        "coefficients = [2,-1,3.5]\n",
        "paulis = [PauliZ(0)@PauliZ(1),PauliZ(0)@PauliZ(2),PauliZ(1)]\n",
        "H = qml.Hamiltonian(coefficients,paulis)\n",
        "print(H)"
      ],
      "metadata": {
        "id": "IS2g769Idc3C"
      },
      "execution_count": null,
      "outputs": []
    },
    {
      "cell_type": "code",
      "source": [
        "print(qml.matrix(H))"
      ],
      "metadata": {
        "id": "Bl7wk3TFdoXk"
      },
      "execution_count": null,
      "outputs": []
    },
    {
      "cell_type": "code",
      "source": [
        "from pennylane.utils import sparse_hamiltonian\n",
        "print(sparse_hamiltonian(H))"
      ],
      "metadata": {
        "id": "8_hRMXOhdpQk"
      },
      "execution_count": null,
      "outputs": []
    },
    {
      "cell_type": "code",
      "source": [
        "H = 2*PauliZ(0)@PauliZ(1) - PauliZ(0)@PauliZ(2) +3.5*PauliZ(1)\n"
      ],
      "metadata": {
        "id": "AxyI6vCCds3j"
      },
      "execution_count": null,
      "outputs": []
    },
    {
      "cell_type": "code",
      "source": [
        "from pennylane import qaoa\n",
        "\n",
        "H0 = qml.PauliX(0) + qml.PauliX(1)\n",
        "H1 = 1.0*qml.PauliZ(0) @ qml.PauliZ(1) \n",
        "\n",
        "wires = range(2)\n",
        "dev = qml.device(\"default.qubit\", wires=wires)\n",
        "\n",
        "p = 2\n",
        "\n",
        "@qml.qnode(dev)\n",
        "def energy(angles):\n",
        "    for w in wires:\n",
        "        qml.Hadamard(wires=w)\n",
        "    for i in range(p):\n",
        "        qaoa.cost_layer(angles[2*i+1], H1)\n",
        "        qaoa.mixer_layer(angles[2*i], H0)\n",
        "    return qml.expval(H1)"
      ],
      "metadata": {
        "id": "KshUsNyedvfn"
      },
      "execution_count": null,
      "outputs": []
    },
    {
      "cell_type": "code",
      "source": [
        "from pennylane import numpy as np\n",
        "optimizer = qml.GradientDescentOptimizer()\n",
        "steps = 20\n",
        "angles = np.array([1,1,1,1], requires_grad=True)\n",
        "\n",
        "for i in range(steps):\n",
        "    angles = optimizer.step(energy, angles)\n",
        "\n",
        "print(\"Optimal angles\", angles)"
      ],
      "metadata": {
        "id": "-jVoR4gPePSu"
      },
      "execution_count": null,
      "outputs": []
    },
    {
      "cell_type": "code",
      "source": [
        "@qml.qnode(dev)\n",
        "def sample_solutions(angles):\n",
        "    for w in wires:\n",
        "        qml.Hadamard(wires=w)\n",
        "    for i in range(p):\n",
        "        qaoa.cost_layer(angles[2*i+1], H1)\n",
        "        qaoa.mixer_layer(angles[2*i], H0)\n",
        "    return qml.sample()\n",
        "print(sample_solutions(angles, shots = 5))"
      ],
      "metadata": {
        "id": "Pn3MmKr1eWXC"
      },
      "execution_count": null,
      "outputs": []
    }
  ]
}
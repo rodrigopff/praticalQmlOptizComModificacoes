{
  "nbformat": 4,
  "nbformat_minor": 0,
  "metadata": {
    "colab": {
      "provenance": []
    },
    "kernelspec": {
      "name": "python3",
      "display_name": "Python 3"
    },
    "language_info": {
      "name": "python"
    }
  },
  "cells": [
    {
      "cell_type": "markdown",
      "source": [
        "# CHAPTER 5 - QAOA: Quantum Approximate Optimization Algorithm - Qiskit Code\n",
        "\n"
      ],
      "metadata": {
        "id": "tdx6IZHGXsmh"
      }
    },
    {
      "cell_type": "markdown",
      "source": [
        "*Note*: You may skip the following three cells if you have alredy installed the right versions of all the libraries mentioned in *Appendix D*. This will likely NOT be the case if you are running this notebook on a cloud service such as Google Colab."
      ],
      "metadata": {
        "id": "KiTurOCpXi6e"
      }
    },
    {
      "cell_type": "code",
      "execution_count": null,
      "metadata": {
        "id": "POaIcCD6bGh8"
      },
      "outputs": [],
      "source": [
        "pip install qiskit==0.39.2"
      ]
    },
    {
      "cell_type": "code",
      "source": [
        "pip install pylatexenc==2.10"
      ],
      "metadata": {
        "id": "9iMfBhHFbgRF"
      },
      "execution_count": null,
      "outputs": []
    },
    {
      "cell_type": "code",
      "source": [
        "pip install qiskit-optimization==0.4.0"
      ],
      "metadata": {
        "id": "lkfNNKdJcajo"
      },
      "execution_count": null,
      "outputs": []
    },
    {
      "cell_type": "code",
      "source": [
        "from qiskit.opflow import Z\n",
        "from qiskit.algorithms import QAOA\n",
        "\n",
        "H1 = Z^Z # Define Z_0Z_1\n",
        "qaoa = QAOA()\n",
        "circuit = qaoa.construct_circuit([1,2],H1)[0]\n",
        "circuit.draw(output=\"mpl\")"
      ],
      "metadata": {
        "id": "tVVsWzeEbMv4"
      },
      "execution_count": null,
      "outputs": []
    },
    {
      "cell_type": "code",
      "source": [
        "circuit.decompose().decompose().draw(output=\"mpl\")\n"
      ],
      "metadata": {
        "id": "3Xe_aPBwbfbP"
      },
      "execution_count": null,
      "outputs": []
    },
    {
      "cell_type": "code",
      "source": [
        "qaoa = QAOA(reps = 2)\n",
        "circuit = qaoa.construct_circuit([1,2,3,4],H1)[0]\n",
        "circuit.decompose().decompose().draw(output=\"mpl\")"
      ],
      "metadata": {
        "id": "He-FMPh_brYm"
      },
      "execution_count": null,
      "outputs": []
    },
    {
      "cell_type": "code",
      "source": [
        "from qiskit.utils import algorithm_globals, QuantumInstance\n",
        "from qiskit import Aer\n",
        "from qiskit.algorithms.optimizers import COBYLA\n",
        "\n",
        "seed = 1234\n",
        "algorithm_globals.random_seed = seed\n",
        "quantum_instance = QuantumInstance(Aer.get_backend(\"aer_simulator\"), \n",
        "                   seed_simulator=seed, seed_transpiler=seed, \n",
        "                   shots = 10)\n",
        "qaoa = QAOA(optimizer = COBYLA(), quantum_instance=quantum_instance)\n",
        "result = qaoa.compute_minimum_eigenvalue(H1)\n",
        "print(result)"
      ],
      "metadata": {
        "id": "isdq5OfJbwZ0"
      },
      "execution_count": null,
      "outputs": []
    },
    {
      "cell_type": "markdown",
      "source": [
        "*Note*: In the following cell, you need to replace \"1234\" with your actual IBM token. Refer to *Appendix D* in the book for instructions on how to create an account and get your token. Be very careful not to disclose your token to anyone!"
      ],
      "metadata": {
        "id": "-e5zvw9IZQJB"
      }
    },
    {
      "cell_type": "code",
      "source": [
        "ibm_token=\"1234\""
      ],
      "metadata": {
        "id": "B8blF8VfY4In"
      },
      "execution_count": null,
      "outputs": []
    },
    {
      "cell_type": "code",
      "source": [
        "from qiskit import IBMQ\n",
        "\n",
        "IBMQ.save_account(ibm_token)\n",
        "provider = IBMQ.load_account()\n",
        "program_id = \"qaoa\"\n",
        "\n",
        "H1 = Z^Z\n",
        "opt = COBYLA()\n",
        "reps = 1\n",
        "shots = 1024\n",
        "\n",
        "runtime_inputs = {\n",
        "    \"operator\": H1,\n",
        "    \"reps\": reps,\n",
        "    \"optimizer\": opt,\n",
        "    \"initial_point\": [0,0],\n",
        "    \"use_swap_strategies\": False\n",
        "}\n",
        "\n",
        "options = {\"backend_name\": \"ibmq_belem\"}\n",
        "\n",
        "job = provider.runtime.run(program_id=program_id, \n",
        "      options=options, inputs=runtime_inputs)"
      ],
      "metadata": {
        "id": "6wcPPQFGcIuv"
      },
      "execution_count": null,
      "outputs": []
    },
    {
      "cell_type": "code",
      "source": [
        "result = job.result()\n",
        "print(\"Optimizer time\", result['optimizer_time'])\n",
        "print(\"Optimal value\", result['optimal_value'])\n",
        "print(\"Optimal point\", result['optimal_point'])\n",
        "print(\"Optimal state\", result['eigenstate'])"
      ],
      "metadata": {
        "id": "1RzFMgeDcMW0"
      },
      "execution_count": null,
      "outputs": []
    },
    {
      "cell_type": "code",
      "source": [
        "from qiskit_optimization.problems import QuadraticProgram\n",
        "\n",
        "qp = QuadraticProgram()\n",
        "qp.binary_var('x')\n",
        "qp.binary_var('y')\n",
        "qp.binary_var('z')\n",
        "\n",
        "qp.minimize(linear = {'y':-1}, quadratic = {('x','y'):2, ('z','y'):-4})\n",
        "qp.linear_constraint(linear = {'x':1, 'y':2, 'z':3}, \n",
        "    sense =\"<=\", rhs = 5)\n",
        "\n",
        "print(qp.export_as_lp_string())"
      ],
      "metadata": {
        "id": "73rn2TllcUe0"
      },
      "execution_count": null,
      "outputs": []
    },
    {
      "cell_type": "code",
      "source": [
        "from qiskit_optimization.algorithms import MinimumEigenOptimizer\n",
        "from qiskit.algorithms import NumPyMinimumEigensolver\n",
        "np_solver = NumPyMinimumEigensolver()\n",
        "np_optimizer = MinimumEigenOptimizer(np_solver)\n",
        "result = np_optimizer.solve(qp)\n",
        "print(result)"
      ],
      "metadata": {
        "id": "MVavhhxBcZXL"
      },
      "execution_count": null,
      "outputs": []
    },
    {
      "cell_type": "code",
      "source": [
        "from qiskit import Aer\n",
        "from qiskit.algorithms import QAOA\n",
        "from qiskit.algorithms.optimizers import COBYLA\n",
        "from qiskit.utils import QuantumInstance\n",
        "quantum_instance = QuantumInstance(Aer.get_backend(\"aer_simulator\"), \n",
        "    shots = 1024)\n",
        "qaoa = QAOA(optimizer = COBYLA(), \n",
        "    quantum_instance=quantum_instance, reps = 1)  \n",
        "qaoa_optimizer = MinimumEigenOptimizer(qaoa)\n",
        "result = qaoa_optimizer.solve(qp)\n",
        "print(result)"
      ],
      "metadata": {
        "id": "eyeShX1ncwpF"
      },
      "execution_count": null,
      "outputs": []
    },
    {
      "cell_type": "code",
      "source": [
        "print('Variable order:', [var.name for var in result.variables])\n",
        "for s in result.samples:\n",
        "    print(s)"
      ],
      "metadata": {
        "id": "k1PrK8Q7c5p5"
      },
      "execution_count": null,
      "outputs": []
    },
    {
      "cell_type": "code",
      "source": [
        "print(result.min_eigen_solver_result)\n"
      ],
      "metadata": {
        "id": "YP21bxWJc9YT"
      },
      "execution_count": null,
      "outputs": []
    },
    {
      "cell_type": "code",
      "source": [
        "from qiskit_optimization.converters import QuadraticProgramToQubo\n",
        "qp_to_qubo = QuadraticProgramToQubo()\n",
        "qubo = qp_to_qubo.convert(qp)\n",
        "print(qubo.export_as_lp_string())"
      ],
      "metadata": {
        "id": "o6KSJuVidA7z"
      },
      "execution_count": null,
      "outputs": []
    },
    {
      "cell_type": "code",
      "source": [
        "H1, offset = qubo.to_ising()\n",
        "print(\"The Hamiltonian is\", H1)\n",
        "print(\"The constant term is\", offset)"
      ],
      "metadata": {
        "id": "nemSmmIpdDts"
      },
      "execution_count": null,
      "outputs": []
    },
    {
      "cell_type": "code",
      "source": [
        "from qiskit_optimization.runtime import QAOAClient\n",
        "from qiskit import IBMQ\n",
        "\n",
        "provider = IBMQ.load_account()\n",
        "qaoa_client = QAOAClient(provider=provider, \n",
        "                      backend=provider.get_backend(\"ibm_oslo\"), reps=1)\n",
        "\n",
        "qaoa = MinimumEigenOptimizer(qaoa_client)\n",
        "result = qaoa.solve(qp)\n",
        "print(result)"
      ],
      "metadata": {
        "id": "v5zVTUsvdG_U"
      },
      "execution_count": null,
      "outputs": []
    }
  ]
}
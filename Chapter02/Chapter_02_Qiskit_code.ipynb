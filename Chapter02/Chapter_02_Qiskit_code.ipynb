{
 "cells": [
  {
   "cell_type": "markdown",
   "metadata": {
    "id": "C6X9I0Mjdnpy"
   },
   "source": [
    "# CHAPTER 2 - The Tools of the Trade in Quantum Computing - Qiskit Code"
   ]
  },
  {
   "cell_type": "markdown",
   "metadata": {
    "id": "J_L0y3qfd1nW"
   },
   "source": [
    "*Note*: You may skip the following two cells if you have alredy installed the right versions of all the libraries mentioned in *Appendix D*. This will likely NOT be the case if you are running this notebook on a cloud service such as Google Colab."
   ]
  },
  {
   "cell_type": "code",
   "execution_count": 1,
   "metadata": {
    "id": "IL8LawPgdl8Q"
   },
   "outputs": [
    {
     "name": "stdout",
     "output_type": "stream",
     "text": [
      "Requirement already satisfied: qiskit==0.39.2 in /home/furtado/anaconda3/envs/qmlPraticalOpt/lib/python3.10/site-packages (0.39.2)\n",
      "Requirement already satisfied: qiskit-terra==0.22.2 in /home/furtado/anaconda3/envs/qmlPraticalOpt/lib/python3.10/site-packages (from qiskit==0.39.2) (0.22.2)\n",
      "Requirement already satisfied: qiskit-aer==0.11.1 in /home/furtado/anaconda3/envs/qmlPraticalOpt/lib/python3.10/site-packages (from qiskit==0.39.2) (0.11.1)\n",
      "Requirement already satisfied: qiskit-ibmq-provider==0.19.2 in /home/furtado/anaconda3/envs/qmlPraticalOpt/lib/python3.10/site-packages (from qiskit==0.39.2) (0.19.2)\n",
      "Requirement already satisfied: numpy>=1.16.3 in /home/furtado/anaconda3/envs/qmlPraticalOpt/lib/python3.10/site-packages (from qiskit-aer==0.11.1->qiskit==0.39.2) (1.23.5)\n",
      "Requirement already satisfied: scipy>=1.0 in /home/furtado/anaconda3/envs/qmlPraticalOpt/lib/python3.10/site-packages (from qiskit-aer==0.11.1->qiskit==0.39.2) (1.10.1)\n",
      "Requirement already satisfied: requests>=2.19 in /home/furtado/anaconda3/envs/qmlPraticalOpt/lib/python3.10/site-packages (from qiskit-ibmq-provider==0.19.2->qiskit==0.39.2) (2.31.0)\n",
      "Requirement already satisfied: requests-ntlm>=1.1.0 in /home/furtado/anaconda3/envs/qmlPraticalOpt/lib/python3.10/site-packages (from qiskit-ibmq-provider==0.19.2->qiskit==0.39.2) (1.1.0)\n",
      "Requirement already satisfied: urllib3>=1.21.1 in /home/furtado/anaconda3/envs/qmlPraticalOpt/lib/python3.10/site-packages (from qiskit-ibmq-provider==0.19.2->qiskit==0.39.2) (1.26.16)\n",
      "Requirement already satisfied: python-dateutil>=2.8.0 in /home/furtado/anaconda3/envs/qmlPraticalOpt/lib/python3.10/site-packages (from qiskit-ibmq-provider==0.19.2->qiskit==0.39.2) (2.8.2)\n",
      "Requirement already satisfied: websocket-client>=1.0.1 in /home/furtado/anaconda3/envs/qmlPraticalOpt/lib/python3.10/site-packages (from qiskit-ibmq-provider==0.19.2->qiskit==0.39.2) (1.5.2)\n",
      "Requirement already satisfied: websockets>=10.0 in /home/furtado/anaconda3/envs/qmlPraticalOpt/lib/python3.10/site-packages (from qiskit-ibmq-provider==0.19.2->qiskit==0.39.2) (11.0.3)\n",
      "Requirement already satisfied: retworkx>=0.11.0 in /home/furtado/anaconda3/envs/qmlPraticalOpt/lib/python3.10/site-packages (from qiskit-terra==0.22.2->qiskit==0.39.2) (0.12.1)\n",
      "Requirement already satisfied: ply>=3.10 in /home/furtado/anaconda3/envs/qmlPraticalOpt/lib/python3.10/site-packages (from qiskit-terra==0.22.2->qiskit==0.39.2) (3.11)\n",
      "Requirement already satisfied: psutil>=5 in /home/furtado/anaconda3/envs/qmlPraticalOpt/lib/python3.10/site-packages (from qiskit-terra==0.22.2->qiskit==0.39.2) (5.9.5)\n",
      "Requirement already satisfied: sympy>=1.3 in /home/furtado/anaconda3/envs/qmlPraticalOpt/lib/python3.10/site-packages (from qiskit-terra==0.22.2->qiskit==0.39.2) (1.12)\n",
      "Requirement already satisfied: dill>=0.3 in /home/furtado/anaconda3/envs/qmlPraticalOpt/lib/python3.10/site-packages (from qiskit-terra==0.22.2->qiskit==0.39.2) (0.3.6)\n",
      "Requirement already satisfied: stevedore>=3.0.0 in /home/furtado/anaconda3/envs/qmlPraticalOpt/lib/python3.10/site-packages (from qiskit-terra==0.22.2->qiskit==0.39.2) (5.1.0)\n",
      "Requirement already satisfied: symengine>=0.9 in /home/furtado/anaconda3/envs/qmlPraticalOpt/lib/python3.10/site-packages (from qiskit-terra==0.22.2->qiskit==0.39.2) (0.9.2)\n",
      "Requirement already satisfied: tweedledum<2.0,>=1.1 in /home/furtado/anaconda3/envs/qmlPraticalOpt/lib/python3.10/site-packages (from qiskit-terra==0.22.2->qiskit==0.39.2) (1.1.1)\n",
      "Requirement already satisfied: six>=1.5 in /home/furtado/anaconda3/envs/qmlPraticalOpt/lib/python3.10/site-packages (from python-dateutil>=2.8.0->qiskit-ibmq-provider==0.19.2->qiskit==0.39.2) (1.16.0)\n",
      "Requirement already satisfied: charset-normalizer<4,>=2 in /home/furtado/anaconda3/envs/qmlPraticalOpt/lib/python3.10/site-packages (from requests>=2.19->qiskit-ibmq-provider==0.19.2->qiskit==0.39.2) (3.1.0)\n",
      "Requirement already satisfied: idna<4,>=2.5 in /home/furtado/anaconda3/envs/qmlPraticalOpt/lib/python3.10/site-packages (from requests>=2.19->qiskit-ibmq-provider==0.19.2->qiskit==0.39.2) (3.4)\n",
      "Requirement already satisfied: certifi>=2017.4.17 in /home/furtado/anaconda3/envs/qmlPraticalOpt/lib/python3.10/site-packages (from requests>=2.19->qiskit-ibmq-provider==0.19.2->qiskit==0.39.2) (2023.5.7)\n",
      "Requirement already satisfied: ntlm-auth>=1.0.2 in /home/furtado/anaconda3/envs/qmlPraticalOpt/lib/python3.10/site-packages (from requests-ntlm>=1.1.0->qiskit-ibmq-provider==0.19.2->qiskit==0.39.2) (1.5.0)\n",
      "Requirement already satisfied: cryptography>=1.3 in /home/furtado/anaconda3/envs/qmlPraticalOpt/lib/python3.10/site-packages (from requests-ntlm>=1.1.0->qiskit-ibmq-provider==0.19.2->qiskit==0.39.2) (40.0.2)\n",
      "Requirement already satisfied: rustworkx==0.12.1 in /home/furtado/anaconda3/envs/qmlPraticalOpt/lib/python3.10/site-packages (from retworkx>=0.11.0->qiskit-terra==0.22.2->qiskit==0.39.2) (0.12.1)\n",
      "Requirement already satisfied: pbr!=2.1.0,>=2.0.0 in /home/furtado/anaconda3/envs/qmlPraticalOpt/lib/python3.10/site-packages (from stevedore>=3.0.0->qiskit-terra==0.22.2->qiskit==0.39.2) (5.11.1)\n",
      "Requirement already satisfied: mpmath>=0.19 in /home/furtado/anaconda3/envs/qmlPraticalOpt/lib/python3.10/site-packages (from sympy>=1.3->qiskit-terra==0.22.2->qiskit==0.39.2) (1.3.0)\n",
      "Requirement already satisfied: cffi>=1.12 in /home/furtado/anaconda3/envs/qmlPraticalOpt/lib/python3.10/site-packages (from cryptography>=1.3->requests-ntlm>=1.1.0->qiskit-ibmq-provider==0.19.2->qiskit==0.39.2) (1.15.1)\n",
      "Requirement already satisfied: pycparser in /home/furtado/anaconda3/envs/qmlPraticalOpt/lib/python3.10/site-packages (from cffi>=1.12->cryptography>=1.3->requests-ntlm>=1.1.0->qiskit-ibmq-provider==0.19.2->qiskit==0.39.2) (2.21)\n",
      "Note: you may need to restart the kernel to use updated packages.\n"
     ]
    }
   ],
   "source": [
    "pip install qiskit==0.39.2"
   ]
  },
  {
   "cell_type": "code",
   "execution_count": 2,
   "metadata": {
    "id": "wR9Ys7ySfsvX"
   },
   "outputs": [
    {
     "name": "stdout",
     "output_type": "stream",
     "text": [
      "Requirement already satisfied: pylatexenc==2.10 in /home/furtado/anaconda3/envs/qmlPraticalOpt/lib/python3.10/site-packages (2.10)\n",
      "Note: you may need to restart the kernel to use updated packages.\n"
     ]
    }
   ],
   "source": [
    "pip install pylatexenc==2.10"
   ]
  },
  {
   "cell_type": "code",
   "execution_count": 1,
   "metadata": {
    "id": "VJhmhFS9fGf0"
   },
   "outputs": [],
   "source": [
    "from qiskit import *"
   ]
  },
  {
   "cell_type": "code",
   "execution_count": 5,
   "metadata": {
    "id": "vrl6Z5QKfU81"
   },
   "outputs": [],
   "source": [
    "\n",
    "\n",
    "qreg1 = QuantumRegister(size = 2, name = \"qrg1\")\n",
    "qreg2 = QuantumRegister(1, \"qrg2\")\n",
    "creg = ClassicalRegister(1, \"oldschool\")\n",
    "\n",
    "qc = QuantumCircuit(qreg1, creg, qreg2)\n"
   ]
  },
  {
   "cell_type": "code",
   "execution_count": 6,
   "metadata": {
    "id": "qfk0w-6lfVa2"
   },
   "outputs": [
    {
     "data": {
      "text/html": [
       "<pre style=\"word-wrap: normal;white-space: pre;background: #fff0;line-height: 1.1;font-family: &quot;Courier New&quot;,Courier,monospace\">           \n",
       "   qrg1_0: \n",
       "           \n",
       "   qrg1_1: \n",
       "           \n",
       "     qrg2: \n",
       "           \n",
       "oldschool: \n",
       "           </pre>"
      ],
      "text/plain": [
       "           \n",
       "   qrg1_0: \n",
       "           \n",
       "   qrg1_1: \n",
       "           \n",
       "     qrg2: \n",
       "           \n",
       "oldschool: \n",
       "           "
      ]
     },
     "execution_count": 6,
     "metadata": {},
     "output_type": "execute_result"
    }
   ],
   "source": [
    "qc.draw()\n"
   ]
  },
  {
   "cell_type": "code",
   "execution_count": 8,
   "metadata": {
    "id": "4jywiOd2flkz"
   },
   "outputs": [
    {
     "data": {
      "image/png": "[encoded data removed]",
      "text/plain": [
       "<Figure size 370.906x200.667 with 1 Axes>"
      ]
     },
     "execution_count": 8,
     "metadata": {},
     "output_type": "execute_result"
    }
   ],
   "source": [
    "import numpy as np\n",
    "\n",
    "qc = QuantumCircuit(2) # Initialise the circuit.\n",
    "\n",
    "# We can now apply the gates sequentially.\n",
    "qc.x(0)\n",
    "qc.rx(np.pi/4, 1)\n",
    "qc.cx(0, 1)\n",
    "qc.u(np.pi/3, 0, np.pi, 0)\n",
    "\n",
    "qc.draw(\"mpl\")"
   ]
  },
  {
   "cell_type": "code",
   "execution_count": 9,
   "metadata": {},
   "outputs": [
    {
     "data": {
      "image/png": "[encoded data removed]",
      "text/plain": [
       "<Figure size 370.906x200.667 with 1 Axes>"
      ]
     },
     "execution_count": 9,
     "metadata": {},
     "output_type": "execute_result"
    }
   ],
   "source": [
    "## Exercicios 2.2 pag 75\n",
    "\n",
    "qc = QuantumCircuit(2) # Initialise the circuit.\n",
    "\n",
    "# We can now apply the gates sequentially.\n",
    "qc.z(0)\n",
    "qc.y(1)\n",
    "qc.cry(np.pi/2, 0, 1)\n",
    "qc.u(np.pi/4, np.pi, 0, 0)\n",
    "qc.rz(np.pi/4, 1)\n",
    "\n",
    "qc.draw(\"mpl\")"
   ]
  },
  {
   "cell_type": "code",
   "execution_count": 10,
   "metadata": {
    "id": "8cGH54ejfmV5"
   },
   "outputs": [],
   "source": [
    "from qiskit.providers.aer import AerSimulator"
   ]
  },
  {
   "cell_type": "code",
   "execution_count": 11,
   "metadata": {
    "id": "h3Q6ewMxf7Oz"
   },
   "outputs": [],
   "source": [
    "sim = AerSimulator()\n",
    "sim_GPU = AerSimulator(device = 'GPU')"
   ]
  },
  {
   "cell_type": "code",
   "execution_count": 12,
   "metadata": {
    "id": "8eg3Rex_f-8Q"
   },
   "outputs": [
    {
     "name": "stdout",
     "output_type": "stream",
     "text": [
      "{'00': 520, '01': 504}\n"
     ]
    }
   ],
   "source": [
    "qc = QuantumCircuit(2, 2)\n",
    "qc.h(0)\n",
    "qc.measure(range(2), range(2))\n",
    "\n",
    "job = execute(qc, sim, shots = 1024)\n",
    "result = job.result()\n",
    "counts = result.get_counts()\n",
    "print(counts)"
   ]
  },
  {
   "cell_type": "code",
   "execution_count": 13,
   "metadata": {
    "id": "iURSusrEgECx"
   },
   "outputs": [
    {
     "data": {
      "image/png": "[encoded data removed]",
      "text/plain": [
       "<Figure size 700x500 with 1 Axes>"
      ]
     },
     "execution_count": 13,
     "metadata": {},
     "output_type": "execute_result"
    }
   ],
   "source": [
    "from qiskit.visualization import *\n",
    "plot_histogram(counts)"
   ]
  },
  {
   "cell_type": "code",
   "execution_count": 14,
   "metadata": {
    "id": "yJ1Oc1Q6gOPN"
   },
   "outputs": [
    {
     "name": "stdout",
     "output_type": "stream",
     "text": [
      "Statevector([0.70710678+0.j, 0.70710678+0.j, 0.        +0.j,\n",
      "             0.        +0.j],\n",
      "            dims=(2, 2))\n",
      "{'01': 504, '00': 520}\n"
     ]
    }
   ],
   "source": [
    "qc = QuantumCircuit(2, 2)\n",
    "qc.h(0)\n",
    "qc.save_statevector()\n",
    "qc.measure(0,0)\n",
    "qc.measure(1,1)\n",
    "\n",
    "result = execute(qc, sim, shots = 1024).result()\n",
    "sv = result.get_statevector()\n",
    "print(sv)\n",
    "counts = result.get_counts()\n",
    "print(counts)"
   ]
  },
  {
   "cell_type": "code",
   "execution_count": 22,
   "metadata": {
    "id": "ldaUUGyfgRvO"
   },
   "outputs": [
    {
     "name": "stdout",
     "output_type": "stream",
     "text": [
      "Operator([[ 0.7071+0.j,  0.7071-0.j],\n",
      "          [ 0.7071+0.j, -0.7071+0.j]],\n",
      "         input_dims=(2,), output_dims=(2,))\n"
     ]
    }
   ],
   "source": [
    "sim_u = AerSimulator(method = 'unitary')\n",
    "\n",
    "qc = QuantumCircuit(1)\n",
    "qc.h(0)\n",
    "qc.save_unitary()\n",
    "\n",
    "result = execute(qc, sim_u).result()\n",
    "U = result.get_unitary(decimals = 4)\n",
    "print(U)"
   ]
  },
  {
   "cell_type": "markdown",
   "metadata": {
    "id": "VW0v33UbgyYD"
   },
   "source": [
    "*Note*: In the following cell, you need to replace \"1234\" with your actual IBM token. Refer to *Appendix D* in the book for instructions on how to create an account and get your token. Be very careful not to disclose your token to anyone!"
   ]
  },
  {
   "cell_type": "code",
   "execution_count": 26,
   "metadata": {
    "id": "UOakFM20hl09"
   },
   "outputs": [],
   "source": [
    "ibm_token=\"1234\"\n",
    "IBMQ.save_account(ibm_token, overwrite=True)"
   ]
  },
  {
   "cell_type": "code",
   "execution_count": 27,
   "metadata": {
    "id": "X9RsDG_hglVb"
   },
   "outputs": [
    {
     "name": "stdout",
     "output_type": "stream",
     "text": [
      "[<IBMQBackend('ibm_brisbane') from IBMQ(hub='ibm-q', group='open', project='main')>, <IBMQBackend('ibm_kyoto') from IBMQ(hub='ibm-q', group='open', project='main')>, <IBMQBackend('ibm_osaka') from IBMQ(hub='ibm-q', group='open', project='main')>]\n"
     ]
    }
   ],
   "source": [
    "provider = IBMQ.load_account()\n",
    "print(provider.backends(simulator = False))"
   ]
  },
  {
   "cell_type": "code",
   "execution_count": 28,
   "metadata": {
    "id": "2ziaDYnmgWtR"
   },
   "outputs": [],
   "source": [
    "dev_list = provider.backends(\n",
    "    filters = lambda x: x.configuration().n_qubits >= 5,\n",
    "    simulator = False)"
   ]
  },
  {
   "cell_type": "code",
   "execution_count": 19,
   "metadata": {
    "id": "KGMdoYOpgdST"
   },
   "outputs": [],
   "source": [
    "from qiskit.providers.ibmq import *\n",
    "dev = least_busy(dev_list)\n",
    "#print(dev)"
   ]
  },
  {
   "cell_type": "code",
   "execution_count": null,
   "metadata": {
    "id": "OMzyNPDqiH8S"
   },
   "outputs": [
    {
     "name": "stdout",
     "output_type": "stream",
     "text": [
      "Job Status: job is queued (None) [Est. wait time: ]"
     ]
    }
   ],
   "source": [
    "from qiskit.providers.ibmq.job import job_monitor\n",
    "\n",
    "# Let us set up a simple circuit.\n",
    "qc = QuantumCircuit(2)\n",
    "qc.h(0)\n",
    "qc.cx(0,1)\n",
    "qc.measure_all()\n",
    "\n",
    "# First, we run the circuit using the statevector simulator.\n",
    "sim = AerSimulator()\n",
    "result = execute(qc, sim, shots = 1024).result()\n",
    "counts_sim = result.get_counts()\n",
    "\n",
    "# Now we run it on the real device that we selected before.\n",
    "job = execute(qc, dev, shots = 1024)\n",
    "job_monitor(job)\n",
    "\n",
    "result = job.result()\n",
    "counts_dev = result.get_counts()"
   ]
  },
  {
   "cell_type": "code",
   "execution_count": null,
   "metadata": {
    "id": "Iv3TVA1ViIyd"
   },
   "outputs": [],
   "source": [
    "print(counts_sim)\n",
    "print(counts_dev)"
   ]
  },
  {
   "cell_type": "code",
   "execution_count": null,
   "metadata": {},
   "outputs": [],
   "source": []
  }
 ],
 "metadata": {
  "colab": {
   "provenance": []
  },
  "kernelspec": {
   "display_name": "Python 3 (ipykernel)",
   "language": "python",
   "name": "python3"
  },
  "language_info": {
   "codemirror_mode": {
    "name": "ipython",
    "version": 3
   },
   "file_extension": ".py",
   "mimetype": "text/x-python",
   "name": "python",
   "nbconvert_exporter": "python",
   "pygments_lexer": "ipython3",
   "version": "3.9.19"
  }
 },
 "nbformat": 4,
 "nbformat_minor": 4
}

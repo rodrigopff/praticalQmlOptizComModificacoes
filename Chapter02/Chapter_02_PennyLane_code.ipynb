{
 "cells": [
  {
   "cell_type": "markdown",
   "metadata": {
    "id": "C6X9I0Mjdnpy"
   },
   "source": [
    "# CHAPTER 2 - The Tools of the Trade in Quantum Computing - PennyLane Code"
   ]
  },
  {
   "cell_type": "markdown",
   "metadata": {
    "id": "J_L0y3qfd1nW"
   },
   "source": [
    "*Note*: You may skip the following three cells if you have alredy installed the right versions of all the libraries mentioned in *Appendix D*. This will likely NOT be the case if you are running this notebook on a cloud service such as Google Colab.\n",
    "\n"
   ]
  },
  {
   "cell_type": "code",
   "execution_count": null,
   "metadata": {
    "id": "IL8LawPgdl8Q"
   },
   "outputs": [],
   "source": [
    "pip install pennylane==0.26"
   ]
  },
  {
   "cell_type": "code",
   "execution_count": null,
   "metadata": {
    "id": "iJn9StQOScS4"
   },
   "outputs": [],
   "source": [
    "pip install qiskit==0.39.2"
   ]
  },
  {
   "cell_type": "code",
   "execution_count": null,
   "metadata": {
    "id": "r2PJyP7A0m8q"
   },
   "outputs": [],
   "source": [
    "pip install pennylane-qiskit==0.24.0"
   ]
  },
  {
   "cell_type": "code",
   "execution_count": 1,
   "metadata": {
    "id": "VJhmhFS9fGf0"
   },
   "outputs": [],
   "source": [
    "import pennylane as qml"
   ]
  },
  {
   "cell_type": "code",
   "execution_count": 2,
   "metadata": {
    "id": "vrl6Z5QKfU81"
   },
   "outputs": [],
   "source": [
    "dev = qml.device('default.qubit', wires = 2)"
   ]
  },
  {
   "cell_type": "code",
   "execution_count": 11,
   "metadata": {
    "id": "qfk0w-6lfVa2"
   },
   "outputs": [],
   "source": [
    "def qc():\n",
    "    qml.PauliX(wires = 0)\n",
    "    qml.Hadamard(wires = 0)\n",
    "    return qml.state()"
   ]
  },
  {
   "cell_type": "code",
   "execution_count": 12,
   "metadata": {
    "id": "4jywiOd2flkz"
   },
   "outputs": [
    {
     "data": {
      "text/plain": [
       "tensor([ 0.70710678+0.j, -0.70710678+0.j], requires_grad=True)"
      ]
     },
     "execution_count": 12,
     "metadata": {},
     "output_type": "execute_result"
    }
   ],
   "source": [
    "qcirc = qml.QNode(qc, dev) # Assemble the circuit & the device.\n",
    "qcirc() # Run it!"
   ]
  },
  {
   "cell_type": "code",
   "execution_count": 13,
   "metadata": {
    "id": "8cGH54ejfmV5"
   },
   "outputs": [
    {
     "data": {
      "text/plain": [
       "tensor([ 0.70710678+0.j, -0.70710678+0.j], requires_grad=True)"
      ]
     },
     "execution_count": 13,
     "metadata": {},
     "output_type": "execute_result"
    }
   ],
   "source": [
    "@qml.qnode(dev) # We add this decorator to use the device dev.\n",
    "def qcirc():\n",
    "    qml.PauliX(wires = 0)\n",
    "    qml.Hadamard(wires = 0)\n",
    "    return qml.state()\n",
    "    \n",
    "# Now qcirc is already a QNode. We can just run it!\n",
    "qcirc()"
   ]
  },
  {
   "cell_type": "code",
   "execution_count": 14,
   "metadata": {
    "id": "h3Q6ewMxf7Oz"
   },
   "outputs": [],
   "source": [
    "dev = qml.device('default.qubit', wires = 1)\n",
    "@qml.qnode(dev)\n",
    "def qcirc(theta):\n",
    "    qml.RX(theta, wires = 0)\n",
    "    return qml.state()"
   ]
  },
  {
   "cell_type": "code",
   "execution_count": 15,
   "metadata": {
    "id": "8eg3Rex_f-8Q"
   },
   "outputs": [
    {
     "name": "stdout",
     "output_type": "stream",
     "text": [
      "0: ──RX(2.00)─┤  State\n"
     ]
    }
   ],
   "source": [
    "print(qml.draw(qcirc)(theta = 2))"
   ]
  },
  {
   "cell_type": "code",
   "execution_count": 16,
   "metadata": {
    "id": "iURSusrEgECx"
   },
   "outputs": [
    {
     "name": "stdout",
     "output_type": "stream",
     "text": [
      "Probs. wires [1, 2] with H in wire 1: [0.5 0.  0.5 0. ]\n",
      "Sample 1 after H: [0 1 0 1]\n",
      "Sample 2 after H x I: [[0 0]\n",
      " [0 0]\n",
      " [1 0]\n",
      " [0 0]]\n"
     ]
    }
   ],
   "source": [
    "dev = qml.device('default.qubit', wires = 3)\n",
    "\n",
    "# Get probabilities\n",
    "@qml.qnode(dev)\n",
    "def qcirc():\n",
    "    qml.Hadamard(wires = 1)\n",
    "    return qml.probs(wires = [1, 2]) # Only the last 2 wires.\n",
    "prob = qcirc()\n",
    "print(\"Probs. wires [1, 2] with H in wire 1:\", prob)\n",
    "\n",
    "# Get a sample, not having specified shots in the device.\n",
    "@qml.qnode(dev)\n",
    "def qcirc():\n",
    "    qml.Hadamard(wires = 0)\n",
    "    return qml.sample(wires = 0) # Only the first wire.\n",
    "s1 = qcirc(shots = 4) # We specify the shots here.\n",
    "print(\"Sample 1 after H:\", s1)\n",
    "\n",
    "# Get a sample with shots in the device.\n",
    "dev = qml.device('default.qubit', wires = 2, shots = 4)\n",
    "@qml.qnode(dev)\n",
    "def qcirc():\n",
    "    qml.Hadamard(wires=0)\n",
    "    return qml.sample() # Will sample all wires.\n",
    "s2 = qcirc()\n",
    "print(\"Sample 2 after H x I:\", s2)"
   ]
  },
  {
   "cell_type": "code",
   "execution_count": 17,
   "metadata": {
    "id": "yJ1Oc1Q6gOPN"
   },
   "outputs": [
    {
     "name": "stdout",
     "output_type": "stream",
     "text": [
      "The probabilities are [0.5078125 0.4921875]\n"
     ]
    }
   ],
   "source": [
    "dev = qml.device('qiskit.aer', wires = 2)\n",
    "@qml.qnode(dev)\n",
    "def qcirc():\n",
    "    qml.Hadamard(wires = 0)\n",
    "    return qml.probs(wires = 0)\n",
    "s = qcirc()\n",
    "print(\"The probabilities are\", s)"
   ]
  },
  {
   "cell_type": "markdown",
   "metadata": {
    "id": "VW0v33UbgyYD"
   },
   "source": [
    "*Note*: In the following cell, you need to replace \"1234\" with your actual IBM token. Refer to *Appendix D* in the book for instructions on how to create an account and get your token. Be very careful not to disclose your token to anyone!"
   ]
  },
  {
   "cell_type": "code",
   "execution_count": null,
   "metadata": {
    "id": "UOakFM20hl09"
   },
   "outputs": [],
   "source": [
    "ibm_token = \"1234\""
   ]
  },
  {
   "cell_type": "code",
   "execution_count": null,
   "metadata": {
    "id": "X9RsDG_hglVb"
   },
   "outputs": [],
   "source": [
    "# Import the modules.\n",
    "from qiskit import *\n",
    "from qiskit.providers.ibmq import *\n",
    "\n",
    "# Save our token if we haven't already.\n",
    "IBMQ.save_account(ibm_token)\n",
    "\n",
    "# Load the account and get the name of the least busy backend.\n",
    "prov = IBMQ.load_account()\n",
    "bck = least_busy(prov.backends(simulator = False)).name()\n",
    "\n",
    "# Invoke the PennyLane IBMQ device.\n",
    "dev = qml.device('qiskit.ibmq', wires = 1,\n",
    "    backend = bck, provider = prov)\n",
    "\n",
    "# Send a circuit and get some results!\n",
    "@qml.qnode(dev)\n",
    "def qcirc():\n",
    "    qml.Hadamard(wires = 0)\n",
    "    return qml.probs(wires = 0)\n",
    "print(qcirc())"
   ]
  }
 ],
 "metadata": {
  "colab": {
   "provenance": []
  },
  "kernelspec": {
   "display_name": "Python 3 (ipykernel)",
   "language": "python",
   "name": "python3"
  },
  "language_info": {
   "codemirror_mode": {
    "name": "ipython",
    "version": 3
   },
   "file_extension": ".py",
   "mimetype": "text/x-python",
   "name": "python",
   "nbconvert_exporter": "python",
   "pygments_lexer": "ipython3",
   "version": "3.9.16"
  }
 },
 "nbformat": 4,
 "nbformat_minor": 1
}

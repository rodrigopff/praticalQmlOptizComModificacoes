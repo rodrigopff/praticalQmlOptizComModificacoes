{
 "cells": [
  {
   "cell_type": "markdown",
   "id": "398a1114",
   "metadata": {},
   "source": [
    "# CHAPTER 11 - The Best of Both Worlds: Hybrid Architectures - PennyLane Code"
   ]
  },
  {
   "cell_type": "markdown",
   "id": "d60f20a9",
   "metadata": {},
   "source": [
    "*Note*: You may skip the following five cells if you have alredy installed the right versions of all the libraries mentioned in *Appendix D*. This will likely NOT be the case if you are running this notebook on a cloud service such as Google Colab."
   ]
  },
  {
   "cell_type": "code",
   "execution_count": null,
   "id": "c31af5f7",
   "metadata": {},
   "outputs": [],
   "source": [
    "pip install scikit-learn==1.2.1"
   ]
  },
  {
   "cell_type": "code",
   "execution_count": null,
   "id": "8b8485db",
   "metadata": {},
   "outputs": [],
   "source": [
    "pip install tensorflow==2.9.1"
   ]
  },
  {
   "cell_type": "code",
   "execution_count": null,
   "id": "2e9d0203",
   "metadata": {
    "scrolled": false
   },
   "outputs": [],
   "source": [
    "pip install pennylane==0.26"
   ]
  },
  {
   "cell_type": "code",
   "execution_count": null,
   "id": "57efa022",
   "metadata": {},
   "outputs": [],
   "source": [
    "pip install matplotlib==3.2.2"
   ]
  },
  {
   "cell_type": "code",
   "execution_count": null,
   "id": "990bdfe3",
   "metadata": {},
   "outputs": [],
   "source": [
    "pip install optuna==3.0.3"
   ]
  },
  {
   "cell_type": "code",
   "execution_count": null,
   "id": "f228afe6",
   "metadata": {},
   "outputs": [],
   "source": [
    "import numpy as np\n",
    "import tensorflow as tf\n",
    "\n",
    "seed = 1234\n",
    "np.random.seed(seed)\n",
    "tf.random.set_seed(seed)"
   ]
  },
  {
   "cell_type": "code",
   "execution_count": null,
   "id": "4f1a344e",
   "metadata": {},
   "outputs": [],
   "source": [
    "from sklearn.metrics import accuracy_score\n",
    "from sklearn.model_selection import train_test_split"
   ]
  },
  {
   "cell_type": "code",
   "execution_count": null,
   "id": "4fd3e5fd",
   "metadata": {},
   "outputs": [],
   "source": [
    "from sklearn.datasets import make_classification"
   ]
  },
  {
   "cell_type": "code",
   "execution_count": null,
   "id": "0bf7c720",
   "metadata": {},
   "outputs": [],
   "source": [
    "tf.keras.backend.set_floatx('float64')"
   ]
  },
  {
   "cell_type": "code",
   "execution_count": null,
   "id": "eb0c7e4f",
   "metadata": {},
   "outputs": [],
   "source": [
    "import pennylane as qml\n",
    "\n",
    "state_0 = [[1], [0]]\n",
    "M = state_0 * np.conj(state_0).T"
   ]
  },
  {
   "cell_type": "code",
   "execution_count": null,
   "id": "7f0b4a31",
   "metadata": {},
   "outputs": [],
   "source": [
    "import matplotlib.pyplot as plt\n",
    "\n",
    "def plot_losses(history):\n",
    "    tr_loss = history.history[\"loss\"]\n",
    "    val_loss = history.history[\"val_loss\"]\n",
    "    epochs = np.array(range(len(tr_loss))) + 1\n",
    "    plt.plot(epochs, tr_loss, label = \"Training loss\")\n",
    "    plt.plot(epochs, val_loss, label = \"Validation loss\")\n",
    "    plt.xlabel(\"Epoch\")\n",
    "    plt.legend()\n",
    "    plt.show()"
   ]
  },
  {
   "cell_type": "code",
   "execution_count": null,
   "id": "73e7edd4",
   "metadata": {},
   "outputs": [],
   "source": [
    "x, y = make_classification(n_samples = 1000, n_features = 20)"
   ]
  },
  {
   "cell_type": "code",
   "execution_count": null,
   "id": "00cdb43e",
   "metadata": {},
   "outputs": [],
   "source": [
    "x_tr, x_test, y_tr, y_test = train_test_split(\n",
    "    x, y, train_size = 0.8)\n",
    "x_val, x_test, y_val, y_test = train_test_split(\n",
    "    x_test, y_test, train_size = 0.5)"
   ]
  },
  {
   "cell_type": "code",
   "execution_count": null,
   "id": "997e4e6a",
   "metadata": {},
   "outputs": [],
   "source": [
    "def TwoLocal(nqubits, theta, reps = 1):\n",
    "    \n",
    "    for r in range(reps):\n",
    "        for i in range(nqubits):\n",
    "            qml.RY(theta[r * nqubits + i], wires = i)\n",
    "        for i in range(nqubits - 1):\n",
    "            qml.CNOT(wires = [i, i + 1])\n",
    "    \n",
    "    for i in range(nqubits):\n",
    "        qml.RY(theta[reps * nqubits + i], wires = i)"
   ]
  },
  {
   "cell_type": "code",
   "execution_count": null,
   "id": "9bd1bc97",
   "metadata": {},
   "outputs": [],
   "source": [
    "nqubits = 4\n",
    "dev = qml.device(\"lightning.qubit\", wires = nqubits)\n",
    "\n",
    "@qml.qnode(dev, interface=\"tf\", diff_method = \"adjoint\")\n",
    "def qnn(inputs, theta):\n",
    "    qml.AngleEmbedding(inputs, range(nqubits))\n",
    "    TwoLocal(nqubits, theta, reps = 2)\n",
    "    return qml.expval(qml.Hermitian(M, wires = [0]))\n",
    "\n",
    "weights = {\"theta\": 12}"
   ]
  },
  {
   "cell_type": "code",
   "execution_count": null,
   "id": "502049d2",
   "metadata": {},
   "outputs": [],
   "source": [
    "model = tf.keras.models.Sequential([\n",
    "    tf.keras.layers.Input(20),\n",
    "    tf.keras.layers.Dense(4, activation = \"sigmoid\"),\n",
    "    qml.qnn.KerasLayer(qnn, weights, output_dim=1)\n",
    "])"
   ]
  },
  {
   "cell_type": "code",
   "execution_count": null,
   "id": "d20fc1bd",
   "metadata": {},
   "outputs": [],
   "source": [
    "qlayer = qml.qnn.KerasLayer(qnn, weights, output_dim=1)\n",
    "model = tf.keras.models.Sequential([\n",
    "    tf.keras.layers.Input(20),\n",
    "    tf.keras.layers.Dense(4, activation = \"sigmoid\"),\n",
    "    qlayer\n",
    "])"
   ]
  },
  {
   "cell_type": "code",
   "execution_count": null,
   "id": "667c81f0",
   "metadata": {},
   "outputs": [],
   "source": [
    "earlystop = tf.keras.callbacks.EarlyStopping(\n",
    "    monitor=\"val_loss\", patience=2, verbose=1,\n",
    "    restore_best_weights=True)"
   ]
  },
  {
   "cell_type": "code",
   "execution_count": null,
   "id": "5b80088a",
   "metadata": {},
   "outputs": [],
   "source": [
    "opt = tf.keras.optimizers.Adam(learning_rate = 0.005)\n",
    "model.compile(opt, loss=tf.keras.losses.BinaryCrossentropy())\n",
    "\n",
    "history = model.fit(x_tr, y_tr, epochs = 50, shuffle = True,\n",
    "    validation_data = (x_val, y_val),\n",
    "    batch_size = 10,\n",
    "    callbacks = [earlystop])"
   ]
  },
  {
   "cell_type": "code",
   "execution_count": null,
   "id": "dd9e17d3",
   "metadata": {},
   "outputs": [],
   "source": [
    "plot_losses(history)"
   ]
  },
  {
   "cell_type": "code",
   "execution_count": null,
   "id": "13d5bc6d",
   "metadata": {},
   "outputs": [],
   "source": [
    "tr_acc = accuracy_score(model.predict(x_tr) >= 0.5, y_tr)\n",
    "val_acc = accuracy_score(model.predict(x_val) >= 0.5, y_val)\n",
    "test_acc = accuracy_score(model.predict(x_test) >= 0.5, y_test)\n",
    "print(\"Train accuracy:\", tr_acc)\n",
    "print(\"Validation accuracy:\", val_acc)\n",
    "print(\"Test accuracy:\", test_acc)"
   ]
  },
  {
   "cell_type": "code",
   "execution_count": null,
   "id": "6befe3a1",
   "metadata": {},
   "outputs": [],
   "source": [
    "import optuna"
   ]
  },
  {
   "cell_type": "code",
   "execution_count": null,
   "id": "0fe0a048",
   "metadata": {},
   "outputs": [],
   "source": [
    "def objective(trial):\n",
    "    # Define the learning rate as an optimizable parameter.\n",
    "    lrate = trial.suggest_float(\"learning_rate\", 0.001, 0.1)\n",
    "\n",
    "    # Define the optimizer with the learning rate.\n",
    "    opt = tf.keras.optimizers.Adam(learning_rate = lrate)\n",
    "\n",
    "    # Prepare and compile the model.\n",
    "    model = tf.keras.models.Sequential([\n",
    "        tf.keras.layers.Input(20),\n",
    "        tf.keras.layers.Dense(4, activation = \"sigmoid\"),\n",
    "        qml.qnn.KerasLayer(qnn, weights, output_dim=1)\n",
    "    ])\n",
    "    model.compile(opt, loss=tf.keras.losses.BinaryCrossentropy())\n",
    "\n",
    "    # Train it!\n",
    "    history = model.fit(x_tr, y_tr, epochs = 50, shuffle = True,\n",
    "        validation_data = (x_val, y_val),\n",
    "        batch_size = 10,\n",
    "        callbacks = [earlystop],\n",
    "        verbose = 0 # We want TensorFlow to be quiet.\n",
    "    )\n",
    "    \n",
    "    # Return the validation accuracy.\n",
    "    return accuracy_score(model.predict(x_val) >= 0.5, y_val)"
   ]
  },
  {
   "cell_type": "code",
   "execution_count": null,
   "id": "e97bdba6",
   "metadata": {},
   "outputs": [],
   "source": [
    "from optuna.samplers import TPESampler\n",
    "\n",
    "study = optuna.create_study(direction='maximize',\n",
    "    sampler=TPESampler(seed = seed))"
   ]
  },
  {
   "cell_type": "code",
   "execution_count": null,
   "id": "e5552e6c",
   "metadata": {},
   "outputs": [],
   "source": [
    "study.optimize(objective, n_trials=6)"
   ]
  },
  {
   "cell_type": "code",
   "execution_count": null,
   "id": "d5f59f2b",
   "metadata": {},
   "outputs": [],
   "source": [
    "np.random.seed(seed)\n",
    "tf.random.set_seed(seed)"
   ]
  },
  {
   "cell_type": "code",
   "execution_count": null,
   "id": "699fe339",
   "metadata": {},
   "outputs": [],
   "source": [
    "x, y = make_classification(n_samples = 1000, n_features = 20,\n",
    "    n_classes = 3, n_clusters_per_class = 1)"
   ]
  },
  {
   "cell_type": "code",
   "execution_count": null,
   "id": "ce591ea2",
   "metadata": {},
   "outputs": [],
   "source": [
    "from sklearn.preprocessing import OneHotEncoder\n",
    "hot = OneHotEncoder(sparse = False)\n",
    "y_hot = hot.fit_transform(y.reshape(-1,1))"
   ]
  },
  {
   "cell_type": "code",
   "execution_count": null,
   "id": "6a00081f",
   "metadata": {},
   "outputs": [],
   "source": [
    "x_tr, x_test, y_tr, y_test = train_test_split(\n",
    "    x, y_hot, train_size = 0.8)\n",
    "x_val, x_test, y_val, y_test = train_test_split(\n",
    "    x_test, y_test, train_size = 0.5)"
   ]
  },
  {
   "cell_type": "code",
   "execution_count": null,
   "id": "220ec837",
   "metadata": {},
   "outputs": [],
   "source": [
    "nqubits = 4\n",
    "dev = qml.device(\"lightning.qubit\", wires = nqubits)\n",
    "\n",
    "@qml.qnode(dev, interface=\"tf\", diff_method = \"adjoint\")\n",
    "def qnn(inputs, theta):\n",
    "    qml.AngleEmbedding(inputs, range(nqubits))\n",
    "    TwoLocal(nqubits, theta, reps = 2)\n",
    "    return [qml.expval(qml.Hermitian(M, wires = [0])),\n",
    "            qml.expval(qml.Hermitian(M, wires = [1])),\n",
    "            qml.expval(qml.Hermitian(M, wires = [2]))]\n",
    "\n",
    "weights = {\"theta\": 12}"
   ]
  },
  {
   "cell_type": "code",
   "execution_count": null,
   "id": "eb3f328c",
   "metadata": {},
   "outputs": [],
   "source": [
    "model = tf.keras.models.Sequential([\n",
    "    tf.keras.layers.Input(20),\n",
    "    tf.keras.layers.Dense(8, activation = \"elu\"),\n",
    "    tf.keras.layers.Dense(4, activation = \"sigmoid\"),\n",
    "    qml.qnn.KerasLayer(qnn, weights, output_dim = 3),\n",
    "    tf.keras.layers.Activation(activation = \"softmax\")\n",
    "])"
   ]
  },
  {
   "cell_type": "code",
   "execution_count": null,
   "id": "2b987312",
   "metadata": {},
   "outputs": [],
   "source": [
    "opt = tf.keras.optimizers.Adam(learning_rate = 0.001)\n",
    "model.compile(opt, loss=tf.keras.losses.CategoricalCrossentropy())\n",
    "\n",
    "history = model.fit(x_tr, y_tr, epochs = 50, shuffle = True,\n",
    "    validation_data = (x_val, y_val),\n",
    "    batch_size = 10,\n",
    "    callbacks = [earlystop])"
   ]
  },
  {
   "cell_type": "code",
   "execution_count": null,
   "id": "4b06a871",
   "metadata": {},
   "outputs": [],
   "source": [
    "plot_losses(history)"
   ]
  },
  {
   "cell_type": "code",
   "execution_count": null,
   "id": "731bfaf4",
   "metadata": {},
   "outputs": [],
   "source": [
    "tr_acc = accuracy_score(\n",
    "    model.predict(x_tr).argmax(axis = 1),\n",
    "    y_tr.argmax(axis = 1))\n",
    "val_acc = accuracy_score(\n",
    "    model.predict(x_val).argmax(axis = 1),\n",
    "    y_val.argmax(axis = 1))\n",
    "test_acc = accuracy_score(\n",
    "    model.predict(x_test).argmax(axis = 1),\n",
    "    y_test.argmax(axis = 1))\n",
    "print(\"Train accuracy:\", tr_acc)\n",
    "print(\"Validation accuracy:\", val_acc)\n",
    "print(\"Test accuracy:\", test_acc)"
   ]
  }
 ],
 "metadata": {
  "kernelspec": {
   "display_name": "Python 3 (ipykernel)",
   "language": "python",
   "name": "python3"
  },
  "language_info": {
   "codemirror_mode": {
    "name": "ipython",
    "version": 3
   },
   "file_extension": ".py",
   "mimetype": "text/x-python",
   "name": "python",
   "nbconvert_exporter": "python",
   "pygments_lexer": "ipython3",
   "version": "3.10.8"
  }
 },
 "nbformat": 4,
 "nbformat_minor": 5
}

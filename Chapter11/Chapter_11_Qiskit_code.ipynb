{
 "cells": [
  {
   "cell_type": "markdown",
   "id": "398a1114",
   "metadata": {},
   "source": [
    "# CHAPTER 11 - The Best of Both Worlds: Hybrid Architectures - Qiskit/PyTorch Code"
   ]
  },
  {
   "cell_type": "markdown",
   "id": "d60f20a9",
   "metadata": {},
   "source": [
    "*Note*: You may skip the following five cells if you have alredy installed the right versions of all the libraries mentioned in *Appendix D*. This will likely NOT be the case if you are running this notebook on a cloud service such as Google Colab."
   ]
  },
  {
   "cell_type": "code",
   "execution_count": null,
   "id": "c31af5f7",
   "metadata": {},
   "outputs": [],
   "source": [
    "pip install scikit-learn==1.2.1"
   ]
  },
  {
   "cell_type": "code",
   "execution_count": null,
   "id": "8b8485db",
   "metadata": {},
   "outputs": [],
   "source": [
    "pip install torch==1.13"
   ]
  },
  {
   "cell_type": "code",
   "execution_count": null,
   "id": "2e9d0203",
   "metadata": {},
   "outputs": [],
   "source": [
    "pip install qiskit==0.39.2"
   ]
  },
  {
   "cell_type": "code",
   "execution_count": null,
   "id": "e33548c1",
   "metadata": {},
   "outputs": [],
   "source": [
    "pip install qiskit_machine_learning==0.5.0"
   ]
  },
  {
   "cell_type": "code",
   "execution_count": null,
   "id": "57efa022",
   "metadata": {},
   "outputs": [],
   "source": [
    "pip install matplotlib==3.2.2"
   ]
  },
  {
   "cell_type": "code",
   "execution_count": 1,
   "id": "f228afe6",
   "metadata": {},
   "outputs": [],
   "source": [
    "import numpy as np\n",
    "from sklearn.metrics import accuracy_score\n",
    "from sklearn.model_selection import train_test_split\n",
    "from sklearn.datasets import make_classification\n",
    "\n",
    "seed = 1234\n",
    "np.random.seed(seed)"
   ]
  },
  {
   "cell_type": "code",
   "execution_count": 2,
   "id": "63d5b9d9",
   "metadata": {},
   "outputs": [
    {
     "data": {
      "text/plain": [
       "<torch._C.Generator at 0x7ff98d6febd0>"
      ]
     },
     "execution_count": 2,
     "metadata": {},
     "output_type": "execute_result"
    }
   ],
   "source": [
    "import torch\n",
    "torch.manual_seed(seed)"
   ]
  },
  {
   "cell_type": "code",
   "execution_count": 3,
   "id": "31fbed17",
   "metadata": {},
   "outputs": [],
   "source": [
    "import torch.nn as nn\n",
    "import torch.nn.functional as F"
   ]
  },
  {
   "cell_type": "code",
   "execution_count": 4,
   "id": "7c83498d",
   "metadata": {},
   "outputs": [],
   "source": [
    "class TorchClassifier(nn.Module):\n",
    "    \n",
    "    def __init__(self):\n",
    "        \n",
    "        # Initialize super class.\n",
    "        super(TorchClassifier, self).__init__()\n",
    "        \n",
    "        # Declare the layers that we will use.\n",
    "        self.layer1 = nn.Linear(16, 8)\n",
    "        self.layer2 = nn.Linear(8, 4)\n",
    "        self.layer3 = nn.Linear(4, 2)\n",
    "        self.layer4 = nn.Linear(2, 1)\n",
    "    \n",
    "    # Define the transformation of an input.\n",
    "    def forward(self, x):\n",
    "        x = F.elu(self.layer1(x))\n",
    "        x = F.elu(self.layer2(x))\n",
    "        x = F.elu(self.layer3(x))\n",
    "        x = torch.sigmoid(self.layer4(x))\n",
    "        \n",
    "        return x"
   ]
  },
  {
   "cell_type": "code",
   "execution_count": 5,
   "id": "2a164075",
   "metadata": {},
   "outputs": [
    {
     "name": "stdout",
     "output_type": "stream",
     "text": [
      "TorchClassifier(\n",
      "  (layer1): Linear(in_features=16, out_features=8, bias=True)\n",
      "  (layer2): Linear(in_features=8, out_features=4, bias=True)\n",
      "  (layer3): Linear(in_features=4, out_features=2, bias=True)\n",
      "  (layer4): Linear(in_features=2, out_features=1, bias=True)\n",
      ")\n"
     ]
    }
   ],
   "source": [
    "model = TorchClassifier()\n",
    "print(model)"
   ]
  },
  {
   "cell_type": "code",
   "execution_count": null,
   "id": "7fc77f97",
   "metadata": {},
   "outputs": [],
   "source": [
    "model(torch.rand(16))"
   ]
  },
  {
   "cell_type": "code",
   "execution_count": null,
   "id": "8d8c9df1",
   "metadata": {},
   "outputs": [],
   "source": [
    "x, y = make_classification(n_samples = 1000, n_features = 16)\n",
    "\n",
    "x_tr, x_test, y_tr, y_test = train_test_split(\n",
    "    x, y, train_size = 0.8)\n",
    "x_val, x_test, y_val, y_test = train_test_split(\n",
    "    x_test, y_test, train_size = 0.5)"
   ]
  },
  {
   "cell_type": "code",
   "execution_count": null,
   "id": "44a78278",
   "metadata": {},
   "outputs": [],
   "source": [
    "from torch.utils.data import Dataset\n",
    "\n",
    "class NumpyDataset(Dataset):\n",
    "    def __init__(self, x, y):\n",
    "        \n",
    "        if (x.shape[0] != y.shape[0]):\n",
    "            raise Exception(\"Incompatible arrays\")\n",
    "        \n",
    "        y = y.reshape(-1,1)\n",
    "        \n",
    "        self.x = torch.from_numpy(x).to(torch.float)\n",
    "        self.y = torch.from_numpy(y).to(torch.float)\n",
    "        \n",
    "    def __getitem__(self, i):\n",
    "        return self.x[i], self.y[i]\n",
    "    \n",
    "    def __len__(self):\n",
    "        return self.y.shape[0]"
   ]
  },
  {
   "cell_type": "code",
   "execution_count": null,
   "id": "76fdbcd8",
   "metadata": {},
   "outputs": [],
   "source": [
    "tr_data = NumpyDataset(x_tr, y_tr)\n",
    "val_data = NumpyDataset(x_val, y_val)\n",
    "test_data = NumpyDataset(x_test, y_test)"
   ]
  },
  {
   "cell_type": "code",
   "execution_count": null,
   "id": "a4e01291",
   "metadata": {},
   "outputs": [],
   "source": [
    "print(tr_data[0])\n",
    "print(\"Length:\", len(tr_data))"
   ]
  },
  {
   "cell_type": "code",
   "execution_count": null,
   "id": "878996eb",
   "metadata": {},
   "outputs": [],
   "source": [
    "from torch.utils.data import DataLoader\n",
    "tr_loader = iter(DataLoader(\n",
    "    tr_data, batch_size = 2, shuffle = True))\n",
    "print(next(tr_loader))"
   ]
  },
  {
   "cell_type": "code",
   "execution_count": null,
   "id": "084a7f66",
   "metadata": {},
   "outputs": [],
   "source": [
    "get_loss = F.binary_cross_entropy"
   ]
  },
  {
   "cell_type": "code",
   "execution_count": null,
   "id": "851f060c",
   "metadata": {},
   "outputs": [],
   "source": [
    "print(get_loss(torch.tensor([1.]), torch.tensor([1.])))"
   ]
  },
  {
   "cell_type": "code",
   "execution_count": null,
   "id": "a7ecac74",
   "metadata": {},
   "outputs": [],
   "source": [
    "tr_loader = DataLoader(tr_data, batch_size = 100, shuffle = True)"
   ]
  },
  {
   "cell_type": "code",
   "execution_count": null,
   "id": "4c218ac7",
   "metadata": {},
   "outputs": [],
   "source": [
    "opt = torch.optim.Adam(model.parameters(), lr = 0.005)"
   ]
  },
  {
   "cell_type": "code",
   "execution_count": null,
   "id": "96ab8e6b",
   "metadata": {},
   "outputs": [],
   "source": [
    "def run_epoch(opt, tr_loader):\n",
    "    # Iterate through the batches.\n",
    "    for data in iter(tr_loader):\n",
    "    \n",
    "        x, y = data # Get the data in the batch.\n",
    "        \n",
    "        opt.zero_grad() # Reset the gradients.\n",
    "        \n",
    "        # Compute gradients.\n",
    "        loss = get_loss(model(x), y)\n",
    "        loss.backward()\n",
    "        \n",
    "        opt.step() # Update the weights.\n",
    "        \n",
    "    return get_loss(model(tr_data.x), tr_data.y)"
   ]
  },
  {
   "cell_type": "code",
   "execution_count": null,
   "id": "8908db56",
   "metadata": {},
   "outputs": [],
   "source": [
    "tr_losses = []\n",
    "val_losses = []\n",
    "\n",
    "while (len(val_losses) < 2 or val_losses[-1] < val_losses[-2]):\n",
    "    print(\"EPOCH\", len(tr_losses) + 1, end = \" \")\n",
    "    tr_losses.append(float(run_epoch(opt, tr_loader)))\n",
    "    # ^^ Remember that run_epoch returns the training loss.\n",
    "    val_losses.append(float(\n",
    "        get_loss(model(val_data.x), val_data.y)))\n",
    "    print(\"| Train loss:\", round(tr_losses[-1], 4), end = \" \")\n",
    "    print(\"| Valid loss:\", round(val_losses[-1], 4))"
   ]
  },
  {
   "cell_type": "code",
   "execution_count": null,
   "id": "b06a9d2c",
   "metadata": {},
   "outputs": [],
   "source": [
    "import matplotlib.pyplot as plt\n",
    "def plot_losses(tr_loss, val_loss):\n",
    "    epochs = np.array(range(len(tr_loss))) + 1\n",
    "    plt.plot(epochs, tr_loss, label = \"Training loss\")\n",
    "    plt.plot(epochs, val_loss, label = \"Validation loss\")\n",
    "    plt.xlabel(\"Epoch\")\n",
    "    plt.legend()\n",
    "    plt.show()\n",
    "\n",
    "plot_losses(tr_losses, val_losses)"
   ]
  },
  {
   "cell_type": "code",
   "execution_count": null,
   "id": "e7eca62c",
   "metadata": {},
   "outputs": [],
   "source": [
    "train_acc = accuracy_score(\n",
    "    (model(tr_data.x) >= 0.5).to(float), tr_data.y)\n",
    "val_acc = accuracy_score(\n",
    "    (model(val_data.x) >= 0.5).to(float), val_data.y)\n",
    "test_acc = accuracy_score(\n",
    "    (model(test_data.x) >= 0.5).to(float), test_data.y)\n",
    "print(\"Training accuracy:\", train_acc)\n",
    "print(\"Validation accuracy:\", val_acc)\n",
    "print(\"Test accuracy:\", test_acc)"
   ]
  },
  {
   "cell_type": "code",
   "execution_count": null,
   "id": "c44915a6",
   "metadata": {},
   "outputs": [],
   "source": [
    "from qiskit import *\n",
    "from qiskit.circuit.library import ZZFeatureMap, TwoLocal"
   ]
  },
  {
   "cell_type": "code",
   "execution_count": null,
   "id": "63a8a3f9",
   "metadata": {},
   "outputs": [],
   "source": [
    "x, y = make_classification(n_samples = 500, n_features = 16)\n",
    "x_tr, x_test, y_tr, y_test = train_test_split(x, y, train_size = 0.8)\n",
    "x_val, x_test, y_val, y_test = train_test_split(x_test, y_test, train_size = 0.5)\n",
    "\n",
    "tr_data = NumpyDataset(x_tr, y_tr)\n",
    "val_data = NumpyDataset(x_val, y_val)\n",
    "test_data = NumpyDataset(x_test, y_test)\n",
    "\n",
    "tr_loader = DataLoader(tr_data, batch_size = 20, shuffle = True)"
   ]
  },
  {
   "cell_type": "code",
   "execution_count": null,
   "id": "0078b18e",
   "metadata": {},
   "outputs": [],
   "source": [
    "zzfm = ZZFeatureMap(2)\n",
    "twolocal = TwoLocal(2, ['ry','rz'], 'cz', 'linear', reps = 1)"
   ]
  },
  {
   "cell_type": "code",
   "execution_count": null,
   "id": "b66d2686",
   "metadata": {},
   "outputs": [],
   "source": [
    "from qiskit_machine_learning.neural_networks import TwoLayerQNN"
   ]
  },
  {
   "cell_type": "code",
   "execution_count": null,
   "id": "49dcade1",
   "metadata": {},
   "outputs": [],
   "source": [
    "from qiskit_machine_learning.connectors import TorchConnector\n",
    "from qiskit.providers.aer import AerSimulator\n",
    "\n",
    "class HybridQNN(nn.Module):\n",
    "    \n",
    "    def __init__(self):\n",
    "\n",
    "        # Initialize super class.\n",
    "        super(HybridQNN, self).__init__()\n",
    "\n",
    "        # Declare the layers that we will use.\n",
    "        qnn = TwoLayerQNN(2, zzfm, twolocal, input_gradients = True,\n",
    "            quantum_instance = AerSimulator(method=\"statevector\"))        \n",
    "        self.layer1 = nn.Linear(16, 2)\n",
    "        self.qnn = TorchConnector(qnn)\n",
    "        self.final_layer = nn.Linear(1,1)\n",
    "\n",
    "    def forward(self, x):\n",
    "        x = torch.sigmoid(self.layer1(x))\n",
    "        x = self.qnn(x)\n",
    "        x = torch.sigmoid(self.final_layer(x))\n",
    "        return x\n",
    "\n",
    "model = HybridQNN()"
   ]
  },
  {
   "cell_type": "code",
   "execution_count": null,
   "id": "3a622cdd",
   "metadata": {},
   "outputs": [],
   "source": [
    "opt = torch.optim.Adam(model.parameters(), lr = 0.005)"
   ]
  },
  {
   "cell_type": "code",
   "execution_count": null,
   "id": "9936b13d",
   "metadata": {},
   "outputs": [],
   "source": [
    "tr_losses = []\n",
    "val_losses = []\n",
    "\n",
    "while (len(val_losses) < 2 or val_losses[-1] < val_losses[-2]):\n",
    "    print(\"EPOCH\", len(tr_losses) + 1, end = \" \")\n",
    "    tr_losses.append(float(run_epoch(opt, tr_loader)))\n",
    "    val_losses.append(float(get_loss(model(val_data.x), val_data.y)))\n",
    "    print(\"| Train loss:\", round(tr_losses[-1], 4), end = \" \")\n",
    "    print(\"| Valid loss:\", round(val_losses[-1], 4))"
   ]
  },
  {
   "cell_type": "code",
   "execution_count": null,
   "id": "b2f32888",
   "metadata": {},
   "outputs": [],
   "source": [
    "plot_losses(tr_losses, val_losses)"
   ]
  },
  {
   "cell_type": "code",
   "execution_count": null,
   "id": "28d819d9",
   "metadata": {},
   "outputs": [],
   "source": [
    "tr_acc = accuracy_score(\n",
    "    (model(tr_data.x) >= 0.5).to(float), tr_data.y)\n",
    "val_acc = accuracy_score(\n",
    "    (model(val_data.x) >= 0.5).to(float), val_data.y)\n",
    "test_acc = accuracy_score(\n",
    "    (model(test_data.x) >= 0.5).to(float), test_data.y)\n",
    "print(\"Training accuracy:\", tr_acc)\n",
    "print(\"Validation accuracy:\", val_acc)\n",
    "print(\"Test accuracy:\", test_acc)"
   ]
  },
  {
   "cell_type": "markdown",
   "id": "bf03ce86-ea85-43af-8cb7-67ecbb70dd63",
   "metadata": {
    "id": "VW0v33UbgyYD"
   },
   "source": [
    "*Note*: In the following cell, you need to replace \"1234\" with your actual IBM token. Refer to *Appendix D* in the book for instructions on how to create an account and get your token. Be very careful not to disclose your token to anyone!"
   ]
  },
  {
   "cell_type": "code",
   "execution_count": null,
   "id": "fe141f6b-01f2-417e-a26d-6a53b4e47e93",
   "metadata": {
    "id": "UOakFM20hl09",
    "tags": []
   },
   "outputs": [],
   "source": [
    "ibm_token = \"1234\"\n",
    "IBMQ.save_account(ibm_token)"
   ]
  },
  {
   "cell_type": "code",
   "execution_count": null,
   "id": "9eb9d265",
   "metadata": {},
   "outputs": [],
   "source": [
    "from qiskit.providers.ibmq import *\n",
    "\n",
    "provider = IBMQ.load_account()\n",
    "dev_list = provider.backends(\n",
    "    filters = lambda x: x.configuration().n_qubits >= 4,\n",
    "                        simulator = False)\n",
    "\n",
    "dev = least_busy(dev_list)"
   ]
  },
  {
   "cell_type": "code",
   "execution_count": null,
   "id": "44a404e6",
   "metadata": {},
   "outputs": [],
   "source": [
    "class QiskitQNN(nn.Module):\n",
    "    \n",
    "    def __init__(self):\n",
    "\n",
    "        super(QiskitQNN, self).__init__()\n",
    "\n",
    "        qnn = TwoLayerQNN(2, zzfm, twolocal, input_gradients = True)\n",
    "        self.qnn = TorchConnector(qnn)\n",
    "\n",
    "    def forward(self, x):\n",
    "        x = self.qnn(x)\n",
    "        return x\n",
    "\n",
    "model = QiskitQNN()"
   ]
  },
  {
   "cell_type": "code",
   "execution_count": null,
   "id": "db33df4f",
   "metadata": {},
   "outputs": [],
   "source": [
    "x, y = make_classification(n_samples = 100, n_features = 2,\n",
    "    n_clusters_per_class = 1, n_informative = 1, n_redundant = 1)\n",
    "x_tr, x_test, y_tr, y_test = train_test_split(x, y, train_size = 0.8)\n",
    "x_val, x_test, y_val, y_test = train_test_split(x_test, y_test, train_size = 0.5)\n",
    "\n",
    "tr_data = NumpyDataset(x_tr, y_tr)\n",
    "val_data = NumpyDataset(x_val, y_val)\n",
    "test_data = NumpyDataset(x_test, y_test)"
   ]
  },
  {
   "cell_type": "code",
   "execution_count": null,
   "id": "c11f8a42",
   "metadata": {},
   "outputs": [],
   "source": [
    "tr_loader = DataLoader(tr_data, batch_size = 20, shuffle = True)\n",
    "val_loader = DataLoader(val_data)\n",
    "test_loader = DataLoader(test_data)"
   ]
  },
  {
   "cell_type": "code",
   "execution_count": null,
   "id": "7c684fc5",
   "metadata": {},
   "outputs": [],
   "source": [
    "get_loss = F.mse_loss\n",
    "opt = torch.optim.Adam(model.parameters(), lr = 0.005)"
   ]
  },
  {
   "cell_type": "code",
   "execution_count": null,
   "id": "16f08a64",
   "metadata": {},
   "outputs": [],
   "source": [
    "from qiskit_machine_learning.runtime import TorchRuntimeClient\n",
    "\n",
    "client = TorchRuntimeClient(provider = provider, backend = dev,\n",
    "    model = model, optimizer = opt, loss_func = get_loss,\n",
    "    epochs = 5)"
   ]
  },
  {
   "cell_type": "code",
   "execution_count": null,
   "id": "4b68384d",
   "metadata": {},
   "outputs": [],
   "source": [
    "result = client.fit(train_loader = tr_loader, val_loader = val_loader)"
   ]
  },
  {
   "cell_type": "code",
   "execution_count": null,
   "id": "b2ecb653",
   "metadata": {},
   "outputs": [],
   "source": [
    "pred = client.predict(test_loader).prediction"
   ]
  }
 ],
 "metadata": {
  "kernelspec": {
   "display_name": "Python 3 (ipykernel)",
   "language": "python",
   "name": "python3"
  },
  "language_info": {
   "codemirror_mode": {
    "name": "ipython",
    "version": 3
   },
   "file_extension": ".py",
   "mimetype": "text/x-python",
   "name": "python",
   "nbconvert_exporter": "python",
   "pygments_lexer": "ipython3",
   "version": "3.10.11"
  }
 },
 "nbformat": 4,
 "nbformat_minor": 5
}

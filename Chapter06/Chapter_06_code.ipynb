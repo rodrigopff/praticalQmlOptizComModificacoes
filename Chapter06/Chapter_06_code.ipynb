{
  "nbformat": 4,
  "nbformat_minor": 0,
  "metadata": {
    "colab": {
      "provenance": []
    },
    "kernelspec": {
      "name": "python3",
      "display_name": "Python 3"
    },
    "language_info": {
      "name": "python"
    }
  },
  "cells": [
    {
      "cell_type": "markdown",
      "source": [
        "# CHAPTER 6 - GAS: Grover Adaptive Search - Qiskit Code"
      ],
      "metadata": {
        "id": "gpnlXr0VbUlG"
      }
    },
    {
      "cell_type": "markdown",
      "source": [
        "*Note*: You may skip the following two cells if you have alredy installed the right versions of all the libraries mentioned in *Appendix D*. This will likely NOT be the case if you are running this notebook on a cloud service such as Google Colab."
      ],
      "metadata": {
        "id": "lpTPcPBAbQxf"
      }
    },
    {
      "cell_type": "code",
      "execution_count": null,
      "metadata": {
        "id": "kIYmUVihUVIJ"
      },
      "outputs": [],
      "source": [
        "pip install qiskit==0.39.2"
      ]
    },
    {
      "cell_type": "code",
      "source": [
        "pip install qiskit-optimization==0.4.0"
      ],
      "metadata": {
        "id": "s98c1WAAUbOq"
      },
      "execution_count": null,
      "outputs": []
    },
    {
      "cell_type": "code",
      "source": [
        "from qiskit_optimization.problems import QuadraticProgram\n",
        "\n",
        "qp = QuadraticProgram()\n",
        "qp.binary_var('x')\n",
        "qp.binary_var('y')\n",
        "\n",
        "qp.minimize(linear = {'x':2,'y':2}, quadratic = {('x','y'):-3})\n",
        "\n",
        "print(qp.export_as_lp_string())"
      ],
      "metadata": {
        "id": "WtVT6EzcUlbj"
      },
      "execution_count": null,
      "outputs": []
    },
    {
      "cell_type": "code",
      "source": [
        "from qiskit_optimization.algorithms import GroverOptimizer\n",
        "from qiskit import Aer\n",
        "from qiskit.utils import algorithm_globals, QuantumInstance\n",
        "seed = 1234\n",
        "algorithm_globals.random_seed = seed\n",
        "quantum_instance = QuantumInstance(Aer.get_backend(\"aer_simulator\"), \n",
        "    shots = 1024, seed_simulator = seed, seed_transpiler=seed)\n",
        "grover_optimizer = GroverOptimizer(num_value_qubits = 3, num_iterations=2, \n",
        "    quantum_instance=quantum_instance)"
      ],
      "metadata": {
        "id": "_sMlKy8hU_Ku"
      },
      "execution_count": null,
      "outputs": []
    },
    {
      "cell_type": "code",
      "source": [
        "results = grover_optimizer.solve(qp)\n",
        "print(results)"
      ],
      "metadata": {
        "id": "3JnkS8QgVDFU"
      },
      "execution_count": null,
      "outputs": []
    },
    {
      "cell_type": "code",
      "source": [
        "qp = QuadraticProgram()\n",
        "qp.binary_var('x')\n",
        "qp.binary_var('y')\n",
        "qp.binary_var('z')\n",
        "\n",
        "qp.minimize(linear = {'x':2}, quadratic = {('x','z'):1, ('z','y'):-2})\n",
        "qp.linear_constraint(linear = {'x':2, 'y':-1, 'z':1}, \n",
        "    sense =\"<=\", rhs = 2)\n",
        "\n",
        "print(qp.export_as_lp_string())"
      ],
      "metadata": {
        "id": "gazrtuW8VFvj"
      },
      "execution_count": null,
      "outputs": []
    },
    {
      "cell_type": "code",
      "source": [
        "from qiskit_optimization.converters import QuadraticProgramToQubo\n",
        "qp_to_qubo = QuadraticProgramToQubo()\n",
        "qubo = qp_to_qubo.convert(qp)\n",
        "print(qubo.export_as_lp_string())"
      ],
      "metadata": {
        "id": "914ZxLPPVR9f"
      },
      "execution_count": null,
      "outputs": []
    },
    {
      "cell_type": "code",
      "source": [
        "grover_optimizer = GroverOptimizer(10, num_iterations=4, quantum_instance=quantum_instance)\n",
        "results = grover_optimizer.solve(qubo)\n",
        "print(results)"
      ],
      "metadata": {
        "id": "BzcL4snJcrd5"
      },
      "execution_count": null,
      "outputs": []
    },
    {
      "cell_type": "code",
      "source": [
        "grover_optimizer = GroverOptimizer(10, num_iterations=4, quantum_instance=quantum_instance)\n",
        "results = grover_optimizer.solve(qp)\n",
        "print(results)"
      ],
      "metadata": {
        "id": "FFEemKGXVVf5"
      },
      "execution_count": null,
      "outputs": []
    }
  ]
}
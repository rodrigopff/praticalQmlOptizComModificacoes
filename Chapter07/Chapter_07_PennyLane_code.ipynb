{
  "nbformat": 4,
  "nbformat_minor": 0,
  "metadata": {
    "colab": {
      "provenance": []
    },
    "kernelspec": {
      "name": "python3",
      "display_name": "Python 3"
    },
    "language_info": {
      "name": "python"
    }
  },
  "cells": [
    {
      "cell_type": "markdown",
      "source": [
        "# CHAPTER 7 - VQE: Variational Quantum Eigensolver - PennyLane Code"
      ],
      "metadata": {
        "id": "r-7YpdN20_3n"
      }
    },
    {
      "cell_type": "markdown",
      "source": [
        "*Note*: You may skip the following three cells if you have alredy installed the right versions of all the libraries mentioned in *Appendix D*. This will likely NOT be the case if you are running this notebook on a cloud service such as Google Colab."
      ],
      "metadata": {
        "id": "0Q_BLfE007hc"
      }
    },
    {
      "cell_type": "code",
      "execution_count": null,
      "metadata": {
        "id": "sjek0lCAMGTx"
      },
      "outputs": [],
      "source": [
        "pip install pennylane==0.26.0\n"
      ]
    },
    {
      "cell_type": "code",
      "source": [
        "pip install pennylane_qiskit==0.24.0"
      ],
      "metadata": {
        "id": "Le7kt5C7M1qJ"
      },
      "execution_count": null,
      "outputs": []
    },
    {
      "cell_type": "code",
      "source": [
        "import pennylane as qml\n",
        "from pennylane import numpy as np\n",
        "\n",
        "seed = 1234\n",
        "np.random.seed(seed) \n",
        "\n",
        "symbols = [\"H\", \"H\"]\n",
        "coordinates = np.array([0.0, 0.0, -0.6991986158, 0.0, 0.0, 0.6991986158])\n",
        "\n",
        "H, qubits = qml.qchem.molecular_hamiltonian(symbols, coordinates)\n",
        "print(\"Qubit Hamiltonian: \")\n",
        "print(H)"
      ],
      "metadata": {
        "id": "tid1CsCUM66z"
      },
      "execution_count": null,
      "outputs": []
    },
    {
      "cell_type": "code",
      "source": [
        "nqubits = 4\n",
        "def EfficientSU2(theta):\n",
        "    for i in range(nqubits):\n",
        "      qml.RY(theta[i], wires = i)\n",
        "      qml.RZ(theta[i+nqubits], wires = i)\n",
        "    for i in range(nqubits-1):\n",
        "      qml.CNOT(wires = [i, i + 1])\n",
        "    for i in range(nqubits):\n",
        "      qml.RY(theta[i+2*nqubits], wires = i)\n",
        "      qml.RZ(theta[i+3*nqubits], wires = i)"
      ],
      "metadata": {
        "id": "UD9LPIXfPMOr"
      },
      "execution_count": null,
      "outputs": []
    },
    {
      "cell_type": "code",
      "source": [
        "dev = qml.device(\"lightning.qubit\", wires=qubits)\n",
        "@qml.qnode(dev)\n",
        "def energy(param):\n",
        "    EfficientSU2(param)\n",
        "    return qml.expval(H)"
      ],
      "metadata": {
        "id": "o3Ay3pyePQTU"
      },
      "execution_count": null,
      "outputs": []
    },
    {
      "cell_type": "code",
      "source": [
        "from scipy.optimize import minimize\n",
        "\n",
        "theta = np.array(np.random.random(4*nqubits), requires_grad=True)\n",
        "result = minimize(energy, x0=theta)\n",
        "\n",
        "print(\"Optimal parameters\", result.x)\n",
        "print(\"Energy\", result.fun)"
      ],
      "metadata": {
        "id": "c-cMSX_U_oIk"
      },
      "execution_count": null,
      "outputs": []
    },
    {
      "cell_type": "markdown",
      "source": [
        "*Note*: In the following cell, you need to replace \"1234\" with your actual IBM token. Refer to *Appendix D* in the book for instructions on how to create an account and get your token. Be very careful not to disclose your token to anyone!"
      ],
      "metadata": {
        "id": "plz75n2_1idU"
      }
    },
    {
      "cell_type": "code",
      "source": [
        "from qiskit import IBMQ\n",
        "\n",
        "ibm_token=\"1234\"\n"
      ],
      "metadata": {
        "id": "NI8AZhzEPLkU"
      },
      "execution_count": null,
      "outputs": []
    },
    {
      "cell_type": "code",
      "source": [
        "from pennylane_qiskit import upload_vqe_runner, vqe_runner\n",
        "\n",
        "IBMQ.enable_account(ibm_token)\n",
        "\n",
        "program_id = upload_vqe_runner(hub=\"ibm-q\", group=\"open\", project=\"main\")\n",
        "\n",
        "job = vqe_runner(\n",
        "    program_id=program_id,\n",
        "    backend=\"ibm_oslo\",\n",
        "    hamiltonian=H,\n",
        "    ansatz=EfficientSU2,\n",
        "    x0=np.array(np.random.random(4*nqubits)),\n",
        "    shots=1024,\n",
        "    optimizer=\"SPSA\",\n",
        "    kwargs={\"hub\": \"ibm-q\", \"group\": \"open\", \"project\": \"main\"}\n",
        ")\n"
      ],
      "metadata": {
        "id": "8qy8Tdc6PZDs"
      },
      "execution_count": null,
      "outputs": []
    },
    {
      "cell_type": "code",
      "source": [
        "print(job.result())"
      ],
      "metadata": {
        "id": "EliPmtafKplg"
      },
      "execution_count": null,
      "outputs": []
    },
    {
      "cell_type": "code",
      "source": [
        "from pennylane_qiskit import upload_vqe_runner, vqe_runner\n",
        "\n",
        "program_id = upload_vqe_runner(hub=\"ibm-q\", group=\"open\", project=\"main\")\n",
        "\n",
        "job = vqe_runner(\n",
        "    program_id=program_id,\n",
        "    backend=\"ibm_oslo\",\n",
        "    hamiltonian=H,\n",
        "    ansatz=EfficientSU2,\n",
        "    x0=np.array(np.random.random(4*nqubits)),\n",
        "    shots=1024,\n",
        "    optimizer=\"SPSA\",\n",
        "    kwargs={\"hub\": \"ibm-q\", \"group\": \"open\", \"project\": \"main\"},\n",
        "    use_measurement_mitigation = True\n",
        ")\n",
        "\n",
        "print(job.result())\n"
      ],
      "metadata": {
        "id": "LrIJXo3ek9F4"
      },
      "execution_count": null,
      "outputs": []
    }
  ]
}

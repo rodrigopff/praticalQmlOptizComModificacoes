{
  "cells": [
    {
      "cell_type": "markdown",
      "source": [
        "# CHAPTER 7 - VQE: Variational Quantum Eigensolver - Qiskit Code"
      ],
      "metadata": {
        "id": "Li4nhHyRkWNh"
      }
    },
    {
      "cell_type": "markdown",
      "source": [
        "*Note*: You may skip the following three cells if you have alredy installed the right versions of all the libraries mentioned in *Appendix D*. This will likely NOT be the case if you are running this notebook on a cloud service such as Google Colab."
      ],
      "metadata": {
        "id": "YAyw8-RnzU90"
      }
    },
    {
      "cell_type": "code",
      "execution_count": null,
      "metadata": {
        "id": "4MH6a9E6jJvk"
      },
      "outputs": [],
      "source": [
        "pip install qiskit==0.39.2"
      ]
    },
    {
      "cell_type": "code",
      "execution_count": null,
      "metadata": {
        "id": "uri_vug0jNgU"
      },
      "outputs": [],
      "source": [
        "pip install qiskit_nature==0.4.5"
      ]
    },
    {
      "cell_type": "code",
      "execution_count": null,
      "metadata": {
        "id": "-Drq5iAMjPL-"
      },
      "outputs": [],
      "source": [
        "pip install pyscf==2.1.1"
      ]
    },
    {
      "cell_type": "code",
      "execution_count": null,
      "metadata": {
        "id": "al9yw4SvjQTP"
      },
      "outputs": [],
      "source": [
        "from qiskit_nature.drivers import Molecule\n",
        "from qiskit_nature.drivers.second_quantization import ElectronicStructureMoleculeDriver, ElectronicStructureDriverType\n",
        "from qiskit_nature.problems.second_quantization import ElectronicStructureProblem\n",
        "\n",
        "mol = Molecule(geometry=[['H', [0., 0., -0.37]],\n",
        "                        ['H', [0., 0., 0.37]]])\n",
        "driver = ElectronicStructureMoleculeDriver(mol, basis='sto3g', \n",
        "        driver_type=ElectronicStructureDriverType.PYSCF)\n",
        "problem = ElectronicStructureProblem(driver)\n",
        "secqop = problem.second_q_ops()\n",
        "print(secqop[0])"
      ]
    },
    {
      "cell_type": "code",
      "execution_count": null,
      "metadata": {
        "id": "u09Az8REjd1X"
      },
      "outputs": [],
      "source": [
        "from qiskit_nature.converters.second_quantization import QubitConverter\n",
        "from qiskit_nature.mappers.second_quantization import JordanWignerMapper\n",
        "\n",
        "qconverter = QubitConverter(JordanWignerMapper())\n",
        "qhamiltonian = qconverter.convert(secqop[0])\n",
        "print(\"Qubit Hamiltonian\")\n",
        "print(qhamiltonian)"
      ]
    },
    {
      "cell_type": "code",
      "execution_count": null,
      "metadata": {
        "id": "s4NZ-tvpjuB7"
      },
      "outputs": [],
      "source": [
        "pip install pylatexenc==2.10"
      ]
    },
    {
      "cell_type": "code",
      "execution_count": null,
      "metadata": {
        "id": "Wbv8RFv7jnK6"
      },
      "outputs": [],
      "source": [
        "from qiskit.circuit.library import EfficientSU2\n",
        "\n",
        "ansatz = EfficientSU2(num_qubits=4, reps=1, entanglement=\"linear\", \n",
        "    insert_barriers = True)\n",
        "ansatz.decompose().draw(\"mpl\")"
      ]
    },
    {
      "cell_type": "code",
      "execution_count": null,
      "metadata": {
        "id": "PInjc2NljrLh"
      },
      "outputs": [],
      "source": [
        "from qiskit.algorithms import VQE\n",
        "from qiskit import Aer\n",
        "from qiskit.utils import QuantumInstance, algorithm_globals\n",
        "import numpy as np\n",
        "from qiskit.algorithms.optimizers import COBYLA\n",
        "\n",
        "seed = 1234\n",
        "np.random.seed(seed)\n",
        "algorithm_globals.random_seed = seed\n",
        "\n",
        "optimizer = COBYLA()\n",
        "\n",
        "initial_point = np.random.random(ansatz.num_parameters)\n",
        "quantum_instance = QuantumInstance(backend = \n",
        "    Aer.get_backend('aer_simulator_statevector'))\n",
        "\n",
        "vqe = VQE(ansatz=ansatz, optimizer=optimizer, \n",
        "    initial_point=initial_point, \n",
        "    quantum_instance=quantum_instance)"
      ]
    },
    {
      "cell_type": "code",
      "execution_count": null,
      "metadata": {
        "id": "oGvgyAijkH4q"
      },
      "outputs": [],
      "source": [
        "result = vqe.compute_minimum_eigenvalue(qhamiltonian)\n",
        "print(result)"
      ]
    },
    {
      "cell_type": "code",
      "execution_count": null,
      "metadata": {
        "id": "mGHXZY7GkKtw"
      },
      "outputs": [],
      "source": [
        "from qiskit.algorithms.minimum_eigensolvers import NumPyMinimumEigensolver\n",
        "solver = NumPyMinimumEigensolver()\n",
        "result = solver.compute_minimum_eigenvalue(qhamiltonian)\n",
        "print(result)"
      ]
    },
    {
      "cell_type": "code",
      "execution_count": null,
      "metadata": {
        "id": "_PkkAwoskaGC"
      },
      "outputs": [],
      "source": [
        "from qiskit.algorithms import VQD\n",
        "vqd = VQD(ansatz=ansatz,\n",
        "    optimizer=optimizer,\n",
        "    initial_point=initial_point,\n",
        "    quantum_instance=quantum_instance,\n",
        "    k = 2)\n",
        "result = vqd.compute_eigenvalues(qhamiltonian)\n",
        "print(result)"
      ]
    },
    {
      "cell_type": "code",
      "execution_count": null,
      "metadata": {
        "id": "i1S_XdiylET4"
      },
      "outputs": [],
      "source": [
        "from qiskit_nature.algorithms import GroundStateEigensolver\n",
        "\n",
        "solver = GroundStateEigensolver(qconverter, vqe)\n",
        "result = solver.solve(problem)\n",
        "print(result)"
      ]
    },
    {
      "cell_type": "code",
      "execution_count": null,
      "metadata": {
        "id": "x4p-F18Tlw7K"
      },
      "outputs": [],
      "source": [
        "from qiskit_nature.algorithms import VQEUCCFactory\n",
        "\n",
        "vqeuccf = VQEUCCFactory(quantum_instance = quantum_instance)"
      ]
    },
    {
      "cell_type": "code",
      "execution_count": null,
      "metadata": {
        "id": "iO_IushFl4dI"
      },
      "outputs": [],
      "source": [
        "vqeuccf.get_solver(problem, qconverter).ansatz.decompose().draw(\"mpl\")\n"
      ]
    },
    {
      "cell_type": "code",
      "execution_count": null,
      "metadata": {
        "id": "bptZqsdRl6wI"
      },
      "outputs": [],
      "source": [
        "solver = GroundStateEigensolver(qconverter, vqeuccf)\n",
        "result = solver.solve(problem)\n",
        "print(result)"
      ]
    },
    {
      "cell_type": "markdown",
      "source": [
        "*Note*: In the following cell, you need to replace \"1234\" with your actual IBM token. Refer to *Appendix D* in the book for instructions on how to create an account and get your token. Be very careful not to disclose your token to anyone!"
      ],
      "metadata": {
        "id": "WJvpdN7uz9QH"
      }
    },
    {
      "cell_type": "code",
      "execution_count": null,
      "metadata": {
        "id": "o1fwfQEWmcno"
      },
      "outputs": [],
      "source": [
        "ibm_token=\"1234\"\n",
        "\n"
      ]
    },
    {
      "cell_type": "code",
      "execution_count": null,
      "metadata": {
        "id": "jOV9TXCjmDcs"
      },
      "outputs": [],
      "source": [
        "from qiskit.providers.aer import AerSimulator\n",
        "from qiskit import IBMQ\n",
        "\n",
        "IBMQ.save_account(ibm_token)\n",
        "provider = IBMQ.load_account()\n",
        "backend = provider.get_backend('ibmq_manila')\n",
        "quantum_instance = QuantumInstance(\n",
        "    backend = AerSimulator.from_backend(backend),\n",
        "    seed_simulator=seed, seed_transpiler = seed, shots = 1024)"
      ]
    },
    {
      "cell_type": "code",
      "execution_count": null,
      "metadata": {
        "id": "4Gv6C06Smjk9"
      },
      "outputs": [],
      "source": [
        "vqe = VQE(\n",
        "    ansatz=ansatz,\n",
        "    optimizer=optimizer,\n",
        "    initial_point=initial_point,\n",
        "    quantum_instance=quantum_instance\n",
        ")\n",
        "\n",
        "solver = GroundStateEigensolver(qconverter, vqe)\n",
        "result = solver.solve(problem)\n",
        "print(result)"
      ]
    },
    {
      "cell_type": "code",
      "execution_count": null,
      "metadata": {
        "id": "udDXE4l-mnbn"
      },
      "outputs": [],
      "source": [
        "from qiskit.utils.mitigation import CompleteMeasFitter\n",
        "\n",
        "quantum_instance = QuantumInstance(\n",
        "    backend = AerSimulator.from_backend(backend),\n",
        "    measurement_error_mitigation_cls=CompleteMeasFitter,\n",
        "    seed_simulator=seed, seed_transpiler = seed, shots = 1024)"
      ]
    },
    {
      "cell_type": "code",
      "execution_count": null,
      "metadata": {
        "id": "Lo8fawp8nkgK"
      },
      "outputs": [],
      "source": [
        "vqe = VQE(\n",
        "    ansatz=ansatz,\n",
        "    optimizer=optimizer,\n",
        "    initial_point=initial_point,\n",
        "    quantum_instance=quantum_instance\n",
        ")\n",
        "\n",
        "solver = GroundStateEigensolver(qconverter, vqe)\n",
        "result = solver.solve(problem)\n",
        "print(result)"
      ]
    },
    {
      "cell_type": "code",
      "execution_count": null,
      "metadata": {
        "id": "sS7NVD5lnwMF"
      },
      "outputs": [],
      "source": [
        "from qiskit_nature.runtime import VQEClient\n",
        "backend = provider.get_backend('ibmq_manila')\n",
        "\n",
        "vqe = VQEClient(\n",
        "    ansatz=ansatz,\n",
        "    provider=provider,\n",
        "    backend=backend,\n",
        "    shots=1024,\n",
        "    initial_point = initial_point,\n",
        "    measurement_error_mitigation=False\n",
        ")  \n",
        "\n",
        "solver = GroundStateEigensolver(qconverter, vqe)\n",
        "result = solver.solve(problem)\n",
        "print(result)"
      ]
    },
    {
      "cell_type": "code",
      "execution_count": null,
      "metadata": {
        "id": "JnkDikEWoWgh"
      },
      "outputs": [],
      "source": [
        "from qiskit_nature.runtime import VQEClient\n",
        "backend = provider.get_backend('ibmq_manila')\n",
        "\n",
        "vqe = VQEClient(\n",
        "    ansatz=ansatz,\n",
        "    provider=provider,\n",
        "    backend=backend,\n",
        "    shots=1024,\n",
        "    initial_point = initial_point,\n",
        "    measurement_error_mitigation=True\n",
        ")  \n",
        "\n",
        "solver = GroundStateEigensolver(qconverter, vqe)\n",
        "result = solver.solve(problem)\n",
        "print(result)"
      ]
    },
    {
      "cell_type": "code",
      "execution_count": null,
      "metadata": {
        "id": "PzCstuK7ojbh"
      },
      "outputs": [],
      "source": [
        "from qiskit.algorithms.minimum_eigensolvers import VQE\n",
        "from qiskit.primitives import Estimator\n",
        "\n",
        "estimator= Estimator()\n",
        "\n",
        "vqe = VQE(\n",
        "    ansatz=ansatz,\n",
        "    optimizer=optimizer,\n",
        "    initial_point=initial_point,\n",
        "    estimator=estimator\n",
        ")\n",
        "\n",
        "result = vqe.compute_minimum_eigenvalue(qhamiltonian)\n",
        "\n",
        "print(result)"
      ]
    },
    {
      "cell_type": "code",
      "source": [],
      "metadata": {
        "id": "xgxNCWhV6Edh"
      },
      "execution_count": null,
      "outputs": []
    }
  ],
  "metadata": {
    "colab": {
      "provenance": []
    },
    "kernelspec": {
      "display_name": "Python 3",
      "name": "python3"
    },
    "language_info": {
      "name": "python"
    }
  },
  "nbformat": 4,
  "nbformat_minor": 0
}
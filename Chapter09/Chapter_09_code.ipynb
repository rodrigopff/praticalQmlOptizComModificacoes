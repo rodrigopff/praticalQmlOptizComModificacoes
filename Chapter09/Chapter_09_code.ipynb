{
 "cells": [
  {
   "cell_type": "markdown",
   "id": "398a1114",
   "metadata": {},
   "source": [
    "# CHAPTER 9 - Quantum Support Vector Machines - Code"
   ]
  },
  {
   "cell_type": "markdown",
   "id": "d60f20a9",
   "metadata": {},
   "source": [
    "*Note*: You may skip the following four cells if you have alredy installed the right versions of all the libraries mentioned in *Appendix D*. This will likely NOT be the case if you are running this notebook on a cloud service such as Google Colab."
   ]
  },
  {
   "cell_type": "code",
   "execution_count": null,
   "id": "c31af5f7",
   "metadata": {},
   "outputs": [],
   "source": [
    "pip install scikit-learn==1.2.1"
   ]
  },
  {
   "cell_type": "code",
   "execution_count": null,
   "id": "2e9d0203",
   "metadata": {},
   "outputs": [],
   "source": [
    "pip install pennylane==0.26"
   ]
  },
  {
   "cell_type": "code",
   "execution_count": null,
   "id": "8b8485db",
   "metadata": {},
   "outputs": [],
   "source": [
    "pip install qiskit==0.39.2"
   ]
  },
  {
   "cell_type": "code",
   "execution_count": null,
   "id": "8d18ebd5",
   "metadata": {},
   "outputs": [],
   "source": [
    "pip install qiskit_machine_learning==0.5.0"
   ]
  },
  {
   "cell_type": "code",
   "execution_count": null,
   "id": "6d229d9c",
   "metadata": {},
   "outputs": [],
   "source": [
    "import numpy as np\n",
    "\n",
    "seed = 1234\n",
    "np.random.seed(seed)"
   ]
  },
  {
   "cell_type": "code",
   "execution_count": null,
   "id": "146e2244",
   "metadata": {},
   "outputs": [],
   "source": [
    "from sklearn.datasets import load_wine\n",
    "\n",
    "x,y = load_wine(return_X_y = True)"
   ]
  },
  {
   "cell_type": "code",
   "execution_count": null,
   "id": "23834185",
   "metadata": {},
   "outputs": [],
   "source": [
    "x = x[:59+71]\n",
    "y = y[:59+71]"
   ]
  },
  {
   "cell_type": "code",
   "execution_count": null,
   "id": "e189199b",
   "metadata": {},
   "outputs": [],
   "source": [
    "from sklearn.model_selection import train_test_split\n",
    "\n",
    "x_tr, x_test, y_tr, y_test = train_test_split(x, y, train_size = 0.9)"
   ]
  },
  {
   "cell_type": "code",
   "execution_count": null,
   "id": "56a1e1d4",
   "metadata": {},
   "outputs": [],
   "source": [
    "from sklearn.preprocessing import MaxAbsScaler\n",
    "\n",
    "scaler = MaxAbsScaler()\n",
    "x_tr = scaler.fit_transform(x_tr)"
   ]
  },
  {
   "cell_type": "code",
   "execution_count": null,
   "id": "e6ec7bf5",
   "metadata": {},
   "outputs": [],
   "source": [
    "x_test = scaler.transform(x_test)\n",
    "x_test = np.clip(x_test,0,1)"
   ]
  },
  {
   "cell_type": "code",
   "execution_count": null,
   "id": "7a28e035",
   "metadata": {},
   "outputs": [],
   "source": [
    "import pennylane as qml\n",
    "\n",
    "nqubits = 4\n",
    "dev = qml.device(\"lightning.qubit\", wires = nqubits)\n",
    "\n",
    "@qml.qnode(dev)\n",
    "def kernel_circ(a, b):\n",
    "    qml.AmplitudeEmbedding(\n",
    "        a, wires=range(nqubits), pad_with=0, normalize=True)\n",
    "    qml.adjoint(qml.AmplitudeEmbedding(\n",
    "        b, wires=range(nqubits), pad_with=0, normalize=True))\n",
    "    return qml.probs(wires = range(nqubits))"
   ]
  },
  {
   "cell_type": "code",
   "execution_count": null,
   "id": "50f14380",
   "metadata": {},
   "outputs": [],
   "source": [
    "from sklearn.svm import SVC\n",
    "def qkernel(A, B):\n",
    "    return np.array([[kernel_circ(a, b)[0] for b in B] for a in A])\n",
    "\n",
    "svm = SVC(kernel = qkernel).fit(x_tr, y_tr)"
   ]
  },
  {
   "cell_type": "code",
   "execution_count": null,
   "id": "8688dcaf",
   "metadata": {},
   "outputs": [],
   "source": [
    "from sklearn.metrics import accuracy_score\n",
    "\n",
    "print(accuracy_score(svm.predict(x_test), y_test))"
   ]
  },
  {
   "cell_type": "code",
   "execution_count": null,
   "id": "d45ce737",
   "metadata": {},
   "outputs": [],
   "source": [
    "from sklearn.decomposition import PCA\n",
    "\n",
    "pca = PCA(n_components = 8)\n",
    "\n",
    "xs_tr = pca.fit_transform(x_tr)\n",
    "xs_test = pca.transform(x_test)"
   ]
  },
  {
   "cell_type": "code",
   "execution_count": null,
   "id": "10b581a8",
   "metadata": {},
   "outputs": [],
   "source": [
    "nqubits = 8\n",
    "dev = qml.device(\"lightning.qubit\", wires=nqubits)\n",
    "\n",
    "@qml.qnode(dev)\n",
    "def kernel_circ(a, b):\n",
    "    qml.AngleEmbedding(a, wires=range(nqubits))\n",
    "    qml.adjoint(qml.AngleEmbedding(b, wires=range(nqubits)))\n",
    "    return qml.probs(wires = range(nqubits))"
   ]
  },
  {
   "cell_type": "code",
   "execution_count": null,
   "id": "9a78dad1",
   "metadata": {},
   "outputs": [],
   "source": [
    "svm = SVC(kernel = qkernel).fit(xs_tr, y_tr)\n",
    "\n",
    "print(accuracy_score(svm.predict(xs_test), y_test))"
   ]
  },
  {
   "cell_type": "code",
   "execution_count": null,
   "id": "b314c107",
   "metadata": {},
   "outputs": [],
   "source": [
    "from itertools import combinations\n",
    "\n",
    "def ZZFeatureMap(nqubits, data):\n",
    "\n",
    "    # Number of variables that we will load:\n",
    "    # could be smaller than the number of qubits.\n",
    "    nload = min(len(data), nqubits) \n",
    "\n",
    "    for i in range(nload):\n",
    "        qml.Hadamard(i)\n",
    "        qml.RZ(2.0 * data[i], wires = i)\n",
    "\n",
    "    for pair in list(combinations(range(nload), 2)):\n",
    "        q0 = pair[0]\n",
    "        q1 = pair[1]\n",
    "\n",
    "        qml.CZ(wires = [q0, q1])\n",
    "        qml.RZ(2.0 * (np.pi - data[q0]) *\n",
    "            (np.pi - data[q1]), wires = q1)\n",
    "        qml.CZ(wires = [q0, q1])"
   ]
  },
  {
   "cell_type": "code",
   "execution_count": null,
   "id": "eb92983b",
   "metadata": {},
   "outputs": [],
   "source": [
    "nqubits = 4\n",
    "dev = qml.device(\"lightning.qubit\", wires = nqubits)\n",
    "\n",
    "@qml.qnode(dev)\n",
    "def kernel_circ(a, b):\n",
    "    ZZFeatureMap(nqubits, a)\n",
    "    qml.adjoint(ZZFeatureMap)(nqubits, b)\n",
    "    return qml.probs(wires = range(nqubits))\n",
    "\n",
    "svm = SVC(kernel=qkernel).fit(xs_tr, y_tr)\n",
    "print(accuracy_score(svm.predict(xs_test), y_test))"
   ]
  },
  {
   "cell_type": "code",
   "execution_count": null,
   "id": "9ee2d603",
   "metadata": {},
   "outputs": [],
   "source": [
    "from sklearn.metrics import accuracy_score"
   ]
  },
  {
   "cell_type": "code",
   "execution_count": null,
   "id": "41e0f0b7",
   "metadata": {},
   "outputs": [],
   "source": [
    "from qiskit import *"
   ]
  },
  {
   "cell_type": "code",
   "execution_count": null,
   "id": "a6e31c97",
   "metadata": {},
   "outputs": [],
   "source": [
    "from qiskit.circuit import Parameter\n",
    "parameter = Parameter(\"x\")\n",
    "qc = QuantumCircuit(1)\n",
    "qc.rx(parameter, 0)"
   ]
  },
  {
   "cell_type": "code",
   "execution_count": null,
   "id": "f55ce42b",
   "metadata": {},
   "outputs": [],
   "source": [
    "from qiskit.circuit import ParameterVector\n",
    "parameter = ParameterVector(\"x\", length = 2)\n",
    "qc = QuantumCircuit(2)\n",
    "qc.rx(parameter[0], 0)\n",
    "qc.rx(parameter[1], 1)"
   ]
  },
  {
   "cell_type": "code",
   "execution_count": null,
   "id": "9d7fe08f",
   "metadata": {},
   "outputs": [],
   "source": [
    "from qiskit.circuit.library import ZZFeatureMap\n",
    "\n",
    "zzfm = ZZFeatureMap(8)"
   ]
  },
  {
   "cell_type": "code",
   "execution_count": null,
   "id": "8807d145",
   "metadata": {},
   "outputs": [],
   "source": [
    "from qiskit_machine_learning.kernels import QuantumKernel\n",
    "from qiskit.providers.aer import AerSimulator\n",
    "\n",
    "qkernel = QuantumKernel(feature_map = zzfm, \n",
    "            quantum_instance = AerSimulator())"
   ]
  },
  {
   "cell_type": "code",
   "execution_count": null,
   "id": "021b107e",
   "metadata": {},
   "outputs": [],
   "source": [
    "from qiskit_machine_learning.algorithms import QSVC\n",
    "\n",
    "qsvm = QSVC(quantum_kernel = qkernel)\n",
    "qsvm.fit(xs_tr, y_tr)"
   ]
  },
  {
   "cell_type": "code",
   "execution_count": null,
   "id": "82d4154d",
   "metadata": {},
   "outputs": [],
   "source": [
    "print(accuracy_score(qsvm.predict(xs_test), y_test))"
   ]
  },
  {
   "cell_type": "markdown",
   "id": "9ed76351-6ed9-4fca-9c62-51e2c79d61cc",
   "metadata": {
    "id": "VW0v33UbgyYD"
   },
   "source": [
    "*Note*: In the following cell, you need to replace \"1234\" with your actual IBM token. Refer to *Appendix D* in the book for instructions on how to create an account and get your token. Be very careful not to disclose your token to anyone!"
   ]
  },
  {
   "cell_type": "code",
   "execution_count": null,
   "id": "22a8ec95-0f23-491b-bc4a-7be3f4741edf",
   "metadata": {
    "id": "UOakFM20hl09",
    "tags": []
   },
   "outputs": [],
   "source": [
    "ibm_token = \"1234\"\n",
    "IBMQ.save_account(ibm_token)"
   ]
  },
  {
   "cell_type": "code",
   "execution_count": null,
   "id": "af1955cb",
   "metadata": {},
   "outputs": [],
   "source": [
    "provider = IBMQ.load_account()"
   ]
  },
  {
   "cell_type": "code",
   "execution_count": null,
   "id": "bba6e6e8",
   "metadata": {},
   "outputs": [],
   "source": [
    "from qiskit.providers.ibmq import *\n",
    "\n",
    "dev_list = provider.backends(\n",
    "    filters = lambda x: x.configuration().n_qubits >= 7,\n",
    "    simulator = False)\n",
    "dev = least_busy(dev_list)"
   ]
  },
  {
   "cell_type": "code",
   "execution_count": null,
   "id": "5a483deb",
   "metadata": {},
   "outputs": [],
   "source": [
    "from sklearn.decomposition import PCA\n",
    "\n",
    "pca = PCA(n_components = 7)\n",
    "\n",
    "xss_tr = pca.fit_transform(x_tr)\n",
    "\n",
    "xss_test = pca.transform(x_test)"
   ]
  },
  {
   "cell_type": "code",
   "execution_count": null,
   "id": "49e1df3d",
   "metadata": {},
   "outputs": [],
   "source": [
    "zzfm = ZZFeatureMap(7)\n",
    "qkernel = QuantumKernel(feature_map = zzfm, quantum_instance = dev)\n",
    "qsvm = QSVC(quantum_kernel = qkernel)\n",
    "qsvm.fit(xss_tr, y_tr)"
   ]
  }
 ],
 "metadata": {
  "kernelspec": {
   "display_name": "Python 3 (ipykernel)",
   "language": "python",
   "name": "python3"
  },
  "language_info": {
   "codemirror_mode": {
    "name": "ipython",
    "version": 3
   },
   "file_extension": ".py",
   "mimetype": "text/x-python",
   "name": "python",
   "nbconvert_exporter": "python",
   "pygments_lexer": "ipython3",
   "version": "3.10.8"
  }
 },
 "nbformat": 4,
 "nbformat_minor": 5
}
